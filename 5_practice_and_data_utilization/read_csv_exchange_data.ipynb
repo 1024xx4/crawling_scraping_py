{
 "cells": [
  {
   "cell_type": "code",
   "execution_count": 1,
   "outputs": [],
   "source": [
    "import pandas as pd"
   ],
   "metadata": {
    "collapsed": false,
    "pycharm": {
     "name": "#%%\n"
    }
   }
  },
  {
   "cell_type": "code",
   "execution_count": 2,
   "outputs": [
    {
     "data": {
      "text/plain": "      データコード               FM08'FXERM07 FM09'FX180110002\n0       系列名称  東京市場　ドル・円　スポット　17時時点/月中平均      実質実効為替レート指数\n1    1970/01                        NaN            58.31\n2    1970/02                        NaN            57.98\n3    1970/03                        NaN            58.19\n4    1970/04                        NaN            58.25\n..       ...                        ...              ...\n620  2021/08                     109.82            71.08\n621  2021/09                      110.2            70.86\n622  2021/10                     113.09             68.6\n623  2021/11                     114.03            67.79\n624  2021/12                     113.88              NaN\n\n[625 rows x 3 columns]",
      "text/html": "<div>\n<style scoped>\n    .dataframe tbody tr th:only-of-type {\n        vertical-align: middle;\n    }\n\n    .dataframe tbody tr th {\n        vertical-align: top;\n    }\n\n    .dataframe thead th {\n        text-align: right;\n    }\n</style>\n<table border=\"1\" class=\"dataframe\">\n  <thead>\n    <tr style=\"text-align: right;\">\n      <th></th>\n      <th>データコード</th>\n      <th>FM08'FXERM07</th>\n      <th>FM09'FX180110002</th>\n    </tr>\n  </thead>\n  <tbody>\n    <tr>\n      <th>0</th>\n      <td>系列名称</td>\n      <td>東京市場　ドル・円　スポット　17時時点/月中平均</td>\n      <td>実質実効為替レート指数</td>\n    </tr>\n    <tr>\n      <th>1</th>\n      <td>1970/01</td>\n      <td>NaN</td>\n      <td>58.31</td>\n    </tr>\n    <tr>\n      <th>2</th>\n      <td>1970/02</td>\n      <td>NaN</td>\n      <td>57.98</td>\n    </tr>\n    <tr>\n      <th>3</th>\n      <td>1970/03</td>\n      <td>NaN</td>\n      <td>58.19</td>\n    </tr>\n    <tr>\n      <th>4</th>\n      <td>1970/04</td>\n      <td>NaN</td>\n      <td>58.25</td>\n    </tr>\n    <tr>\n      <th>...</th>\n      <td>...</td>\n      <td>...</td>\n      <td>...</td>\n    </tr>\n    <tr>\n      <th>620</th>\n      <td>2021/08</td>\n      <td>109.82</td>\n      <td>71.08</td>\n    </tr>\n    <tr>\n      <th>621</th>\n      <td>2021/09</td>\n      <td>110.2</td>\n      <td>70.86</td>\n    </tr>\n    <tr>\n      <th>622</th>\n      <td>2021/10</td>\n      <td>113.09</td>\n      <td>68.6</td>\n    </tr>\n    <tr>\n      <th>623</th>\n      <td>2021/11</td>\n      <td>114.03</td>\n      <td>67.79</td>\n    </tr>\n    <tr>\n      <th>624</th>\n      <td>2021/12</td>\n      <td>113.88</td>\n      <td>NaN</td>\n    </tr>\n  </tbody>\n</table>\n<p>625 rows × 3 columns</p>\n</div>"
     },
     "execution_count": 2,
     "metadata": {},
     "output_type": "execute_result"
    }
   ],
   "source": [
    "pd.read_csv('exchange.csv', encoding='cp932')"
   ],
   "metadata": {
    "collapsed": false,
    "pycharm": {
     "name": "#%%\n"
    }
   }
  },
  {
   "cell_type": "markdown",
   "source": [
    "#### 上記、DataFrame の問題点\n",
    "- CSV File では Header が２行あるが、２行目が Data として扱われている\n",
    "- 列名が長い日本語で扱いづらい。\n",
    "- 年月の列があるのに Index として連番が使われている"
   ],
   "metadata": {
    "collapsed": false,
    "pycharm": {
     "name": "#%% md\n"
    }
   }
  },
  {
   "cell_type": "code",
   "execution_count": 3,
   "outputs": [
    {
     "data": {
      "text/plain": "               USD   rate\ndata                     \n1970-01-01     NaN  58.31\n1970-02-01     NaN  57.98\n1970-03-01     NaN  58.19\n1970-04-01     NaN  58.25\n1970-05-01     NaN  57.85\n...            ...    ...\n2021-08-01  109.82  71.08\n2021-09-01  110.20  70.86\n2021-10-01  113.09  68.60\n2021-11-01  114.03  67.79\n2021-12-01  113.88    NaN\n\n[624 rows x 2 columns]",
      "text/html": "<div>\n<style scoped>\n    .dataframe tbody tr th:only-of-type {\n        vertical-align: middle;\n    }\n\n    .dataframe tbody tr th {\n        vertical-align: top;\n    }\n\n    .dataframe thead th {\n        text-align: right;\n    }\n</style>\n<table border=\"1\" class=\"dataframe\">\n  <thead>\n    <tr style=\"text-align: right;\">\n      <th></th>\n      <th>USD</th>\n      <th>rate</th>\n    </tr>\n    <tr>\n      <th>data</th>\n      <th></th>\n      <th></th>\n    </tr>\n  </thead>\n  <tbody>\n    <tr>\n      <th>1970-01-01</th>\n      <td>NaN</td>\n      <td>58.31</td>\n    </tr>\n    <tr>\n      <th>1970-02-01</th>\n      <td>NaN</td>\n      <td>57.98</td>\n    </tr>\n    <tr>\n      <th>1970-03-01</th>\n      <td>NaN</td>\n      <td>58.19</td>\n    </tr>\n    <tr>\n      <th>1970-04-01</th>\n      <td>NaN</td>\n      <td>58.25</td>\n    </tr>\n    <tr>\n      <th>1970-05-01</th>\n      <td>NaN</td>\n      <td>57.85</td>\n    </tr>\n    <tr>\n      <th>...</th>\n      <td>...</td>\n      <td>...</td>\n    </tr>\n    <tr>\n      <th>2021-08-01</th>\n      <td>109.82</td>\n      <td>71.08</td>\n    </tr>\n    <tr>\n      <th>2021-09-01</th>\n      <td>110.20</td>\n      <td>70.86</td>\n    </tr>\n    <tr>\n      <th>2021-10-01</th>\n      <td>113.09</td>\n      <td>68.60</td>\n    </tr>\n    <tr>\n      <th>2021-11-01</th>\n      <td>114.03</td>\n      <td>67.79</td>\n    </tr>\n    <tr>\n      <th>2021-12-01</th>\n      <td>113.88</td>\n      <td>NaN</td>\n    </tr>\n  </tbody>\n</table>\n<p>624 rows × 2 columns</p>\n</div>"
     },
     "execution_count": 3,
     "metadata": {},
     "output_type": "execute_result"
    }
   ],
   "source": [
    "df_exchange = pd.read_csv('exchange.csv', encoding='cp932', header=1, names=['data', 'USD', 'rate'], index_col=0, parse_dates=True)\n",
    "df_exchange"
   ],
   "metadata": {
    "collapsed": false,
    "pycharm": {
     "name": "#%%\n"
    }
   }
  },
  {
   "cell_type": "markdown",
   "source": [
    "#### read_csv()関数の特筆点\n",
    "型推論によって各列の型の推論と変換が自動的に行なわれる"
   ],
   "metadata": {
    "collapsed": false,
    "pycharm": {
     "name": "#%% md\n"
    }
   }
  },
  {
   "cell_type": "code",
   "execution_count": 4,
   "outputs": [
    {
     "data": {
      "text/plain": "58.31"
     },
     "execution_count": 4,
     "metadata": {},
     "output_type": "execute_result"
    }
   ],
   "source": [
    "df_exchange['rate'][0]"
   ],
   "metadata": {
    "collapsed": false,
    "pycharm": {
     "name": "#%%\n"
    }
   }
  },
  {
   "cell_type": "code",
   "execution_count": 5,
   "outputs": [
    {
     "data": {
      "text/plain": "numpy.float64"
     },
     "execution_count": 5,
     "metadata": {},
     "output_type": "execute_result"
    }
   ],
   "source": [
    "type(df_exchange['rate'][0])"
   ],
   "metadata": {
    "collapsed": false,
    "pycharm": {
     "name": "#%%\n"
    }
   }
  },
  {
   "cell_type": "markdown",
   "source": [
    "## CSV File の読み込み（国債金利 Data）"
   ],
   "metadata": {
    "collapsed": false,
    "pycharm": {
     "name": "#%% md\n"
    }
   }
  },
  {
   "cell_type": "code",
   "execution_count": 6,
   "outputs": [],
   "source": [
    "from datetime import datetime\n",
    "\n",
    "def parse_japanese_date(s):\n",
    "    base_years = {'S': 1925, 'H': 1988, 'R': 2018} # 昭和以降の元号の０年に相当する年を定義しておく。\n",
    "    era = s[0] # 元号を表す Alphabet １文字を取得。\n",
    "    year, month, day = s[1:].split('.') # ２文字目以降を.（Period)で分割して年月日に分ける。\n",
    "    year = base_years[era] + int(year) # 元号の０年に相当する年と数値に変換した年を足して西暦の年を得る。\n",
    "    return datetime(year, int(month), int(day)) # datetime object を作成する。"
   ],
   "metadata": {
    "collapsed": false,
    "pycharm": {
     "name": "#%%\n"
    }
   }
  },
  {
   "cell_type": "code",
   "execution_count": 7,
   "outputs": [
    {
     "data": {
      "text/plain": "datetime.datetime(1974, 9, 24, 0, 0)"
     },
     "execution_count": 7,
     "metadata": {},
     "output_type": "execute_result"
    }
   ],
   "source": [
    "parse_japanese_date('S49.9.24')"
   ],
   "metadata": {
    "collapsed": false,
    "pycharm": {
     "name": "#%%\n"
    }
   }
  },
  {
   "cell_type": "code",
   "execution_count": 8,
   "outputs": [
    {
     "data": {
      "text/plain": "datetime.datetime(2019, 4, 30, 0, 0)"
     },
     "execution_count": 8,
     "metadata": {},
     "output_type": "execute_result"
    }
   ],
   "source": [
    "parse_japanese_date('H31.4.30')"
   ],
   "metadata": {
    "collapsed": false,
    "pycharm": {
     "name": "#%%\n"
    }
   }
  },
  {
   "cell_type": "code",
   "execution_count": 9,
   "outputs": [
    {
     "data": {
      "text/plain": "datetime.datetime(2019, 5, 1, 0, 0)"
     },
     "execution_count": 9,
     "metadata": {},
     "output_type": "execute_result"
    }
   ],
   "source": [
    "parse_japanese_date('R1.5.1')"
   ],
   "metadata": {
    "collapsed": false,
    "pycharm": {
     "name": "#%%\n"
    }
   }
  },
  {
   "cell_type": "code",
   "execution_count": 10,
   "outputs": [
    {
     "data": {
      "text/plain": "                1年     2年     3年     4年     5年     6年     7年     8年     9年  \\\n基準日                                                                          \n1974-09-24  10.327  9.362  8.830  8.515  8.348  8.290  8.240  8.121  8.127   \n1974-09-25  10.333  9.364  8.831  8.516  8.348  8.290  8.240  8.121  8.127   \n1974-09-26  10.340  9.366  8.832  8.516  8.348  8.290  8.240  8.122  8.128   \n1974-09-27  10.347  9.367  8.833  8.517  8.349  8.290  8.240  8.122  8.128   \n1974-09-28  10.354  9.369  8.834  8.518  8.349  8.291  8.240  8.122  8.129   \n...            ...    ...    ...    ...    ...    ...    ...    ...    ...   \n2021-12-24  -0.098 -0.099 -0.097 -0.100 -0.088 -0.085 -0.074 -0.048  0.006   \n2021-12-27  -0.099 -0.095 -0.098 -0.093 -0.084 -0.085 -0.080 -0.054  0.002   \n2021-12-28  -0.099 -0.095 -0.098 -0.093 -0.084 -0.083 -0.079 -0.050  0.002   \n2021-12-29  -0.098 -0.100 -0.098 -0.093 -0.084 -0.085 -0.080 -0.049  0.003   \n2021-12-30  -0.089 -0.095 -0.095 -0.088 -0.075 -0.068 -0.055 -0.028  0.021   \n\n              10年    15年    20年    25年    30年    40年  \n基準日                                                   \n1974-09-24    NaN    NaN    NaN    NaN    NaN    NaN  \n1974-09-25    NaN    NaN    NaN    NaN    NaN    NaN  \n1974-09-26    NaN    NaN    NaN    NaN    NaN    NaN  \n1974-09-27    NaN    NaN    NaN    NaN    NaN    NaN  \n1974-09-28    NaN    NaN    NaN    NaN    NaN    NaN  \n...           ...    ...    ...    ...    ...    ...  \n2021-12-24  0.079  0.292  0.477  0.577  0.679  0.737  \n2021-12-27  0.078  0.287  0.472  0.573  0.675  0.740  \n2021-12-28  0.078  0.287  0.477  0.580  0.684  0.749  \n2021-12-29  0.073  0.288  0.472  0.578  0.684  0.750  \n2021-12-30  0.089  0.303  0.480  0.587  0.693  0.759  \n\n[12151 rows x 15 columns]",
      "text/html": "<div>\n<style scoped>\n    .dataframe tbody tr th:only-of-type {\n        vertical-align: middle;\n    }\n\n    .dataframe tbody tr th {\n        vertical-align: top;\n    }\n\n    .dataframe thead th {\n        text-align: right;\n    }\n</style>\n<table border=\"1\" class=\"dataframe\">\n  <thead>\n    <tr style=\"text-align: right;\">\n      <th></th>\n      <th>1年</th>\n      <th>2年</th>\n      <th>3年</th>\n      <th>4年</th>\n      <th>5年</th>\n      <th>6年</th>\n      <th>7年</th>\n      <th>8年</th>\n      <th>9年</th>\n      <th>10年</th>\n      <th>15年</th>\n      <th>20年</th>\n      <th>25年</th>\n      <th>30年</th>\n      <th>40年</th>\n    </tr>\n    <tr>\n      <th>基準日</th>\n      <th></th>\n      <th></th>\n      <th></th>\n      <th></th>\n      <th></th>\n      <th></th>\n      <th></th>\n      <th></th>\n      <th></th>\n      <th></th>\n      <th></th>\n      <th></th>\n      <th></th>\n      <th></th>\n      <th></th>\n    </tr>\n  </thead>\n  <tbody>\n    <tr>\n      <th>1974-09-24</th>\n      <td>10.327</td>\n      <td>9.362</td>\n      <td>8.830</td>\n      <td>8.515</td>\n      <td>8.348</td>\n      <td>8.290</td>\n      <td>8.240</td>\n      <td>8.121</td>\n      <td>8.127</td>\n      <td>NaN</td>\n      <td>NaN</td>\n      <td>NaN</td>\n      <td>NaN</td>\n      <td>NaN</td>\n      <td>NaN</td>\n    </tr>\n    <tr>\n      <th>1974-09-25</th>\n      <td>10.333</td>\n      <td>9.364</td>\n      <td>8.831</td>\n      <td>8.516</td>\n      <td>8.348</td>\n      <td>8.290</td>\n      <td>8.240</td>\n      <td>8.121</td>\n      <td>8.127</td>\n      <td>NaN</td>\n      <td>NaN</td>\n      <td>NaN</td>\n      <td>NaN</td>\n      <td>NaN</td>\n      <td>NaN</td>\n    </tr>\n    <tr>\n      <th>1974-09-26</th>\n      <td>10.340</td>\n      <td>9.366</td>\n      <td>8.832</td>\n      <td>8.516</td>\n      <td>8.348</td>\n      <td>8.290</td>\n      <td>8.240</td>\n      <td>8.122</td>\n      <td>8.128</td>\n      <td>NaN</td>\n      <td>NaN</td>\n      <td>NaN</td>\n      <td>NaN</td>\n      <td>NaN</td>\n      <td>NaN</td>\n    </tr>\n    <tr>\n      <th>1974-09-27</th>\n      <td>10.347</td>\n      <td>9.367</td>\n      <td>8.833</td>\n      <td>8.517</td>\n      <td>8.349</td>\n      <td>8.290</td>\n      <td>8.240</td>\n      <td>8.122</td>\n      <td>8.128</td>\n      <td>NaN</td>\n      <td>NaN</td>\n      <td>NaN</td>\n      <td>NaN</td>\n      <td>NaN</td>\n      <td>NaN</td>\n    </tr>\n    <tr>\n      <th>1974-09-28</th>\n      <td>10.354</td>\n      <td>9.369</td>\n      <td>8.834</td>\n      <td>8.518</td>\n      <td>8.349</td>\n      <td>8.291</td>\n      <td>8.240</td>\n      <td>8.122</td>\n      <td>8.129</td>\n      <td>NaN</td>\n      <td>NaN</td>\n      <td>NaN</td>\n      <td>NaN</td>\n      <td>NaN</td>\n      <td>NaN</td>\n    </tr>\n    <tr>\n      <th>...</th>\n      <td>...</td>\n      <td>...</td>\n      <td>...</td>\n      <td>...</td>\n      <td>...</td>\n      <td>...</td>\n      <td>...</td>\n      <td>...</td>\n      <td>...</td>\n      <td>...</td>\n      <td>...</td>\n      <td>...</td>\n      <td>...</td>\n      <td>...</td>\n      <td>...</td>\n    </tr>\n    <tr>\n      <th>2021-12-24</th>\n      <td>-0.098</td>\n      <td>-0.099</td>\n      <td>-0.097</td>\n      <td>-0.100</td>\n      <td>-0.088</td>\n      <td>-0.085</td>\n      <td>-0.074</td>\n      <td>-0.048</td>\n      <td>0.006</td>\n      <td>0.079</td>\n      <td>0.292</td>\n      <td>0.477</td>\n      <td>0.577</td>\n      <td>0.679</td>\n      <td>0.737</td>\n    </tr>\n    <tr>\n      <th>2021-12-27</th>\n      <td>-0.099</td>\n      <td>-0.095</td>\n      <td>-0.098</td>\n      <td>-0.093</td>\n      <td>-0.084</td>\n      <td>-0.085</td>\n      <td>-0.080</td>\n      <td>-0.054</td>\n      <td>0.002</td>\n      <td>0.078</td>\n      <td>0.287</td>\n      <td>0.472</td>\n      <td>0.573</td>\n      <td>0.675</td>\n      <td>0.740</td>\n    </tr>\n    <tr>\n      <th>2021-12-28</th>\n      <td>-0.099</td>\n      <td>-0.095</td>\n      <td>-0.098</td>\n      <td>-0.093</td>\n      <td>-0.084</td>\n      <td>-0.083</td>\n      <td>-0.079</td>\n      <td>-0.050</td>\n      <td>0.002</td>\n      <td>0.078</td>\n      <td>0.287</td>\n      <td>0.477</td>\n      <td>0.580</td>\n      <td>0.684</td>\n      <td>0.749</td>\n    </tr>\n    <tr>\n      <th>2021-12-29</th>\n      <td>-0.098</td>\n      <td>-0.100</td>\n      <td>-0.098</td>\n      <td>-0.093</td>\n      <td>-0.084</td>\n      <td>-0.085</td>\n      <td>-0.080</td>\n      <td>-0.049</td>\n      <td>0.003</td>\n      <td>0.073</td>\n      <td>0.288</td>\n      <td>0.472</td>\n      <td>0.578</td>\n      <td>0.684</td>\n      <td>0.750</td>\n    </tr>\n    <tr>\n      <th>2021-12-30</th>\n      <td>-0.089</td>\n      <td>-0.095</td>\n      <td>-0.095</td>\n      <td>-0.088</td>\n      <td>-0.075</td>\n      <td>-0.068</td>\n      <td>-0.055</td>\n      <td>-0.028</td>\n      <td>0.021</td>\n      <td>0.089</td>\n      <td>0.303</td>\n      <td>0.480</td>\n      <td>0.587</td>\n      <td>0.693</td>\n      <td>0.759</td>\n    </tr>\n  </tbody>\n</table>\n<p>12151 rows × 15 columns</p>\n</div>"
     },
     "execution_count": 10,
     "metadata": {},
     "output_type": "execute_result"
    }
   ],
   "source": [
    "df_jgbcm = pd.read_csv('jgbcm_all.csv', encoding='cp932', header=1, index_col=0, parse_dates=True, date_parser=parse_japanese_date, na_values=['-'])\n",
    "\n",
    "df_jgbcm"
   ],
   "metadata": {
    "collapsed": false,
    "pycharm": {
     "name": "#%%\n"
    }
   }
  },
  {
   "cell_type": "code",
   "execution_count": 11,
   "outputs": [],
   "source": [
    "df_jobs = pd.read_excel('effective_job_ratio.xlsx', skiprows=3, skipfooter=3, usecols='A,U:AF', index_col=0)"
   ],
   "metadata": {
    "collapsed": false,
    "pycharm": {
     "name": "#%%\n"
    }
   }
  },
  {
   "cell_type": "code",
   "execution_count": 23,
   "outputs": [
    {
     "data": {
      "text/plain": "         １月    ２月    ３月    ４月    ５月    ６月    ７月    ８月    ９月   10月   11月   12月\n西暦                                                                           \n1964年  0.75  0.76  0.76  0.79  0.81  0.83  0.83  0.82  0.83  0.81  0.79  0.78\n1965年  0.74  0.71  0.71   0.7  0.66  0.63   0.6  0.58  0.57  0.57  0.56  0.55\n1966年  0.58  0.62  0.67   0.7  0.71  0.73  0.72  0.78  0.82  0.85  0.85  0.85\n1967年  0.87   0.9  0.91  0.94  0.97     1  1.02  1.08  1.09  1.09  1.11   1.1\n1968年  1.11  1.09  1.08  1.07  1.09   1.1  1.11  1.12  1.14  1.14  1.17  1.17\n1969年  1.19   1.2  1.21  1.24  1.25  1.29   1.3  1.33  1.34  1.39  1.41  1.46\n1970年  1.49  1.47  1.44  1.43  1.43  1.44  1.41  1.39  1.39  1.36  1.33  1.31\n1971年  1.29  1.23  1.21  1.18  1.15   1.1  1.09  1.07  1.03  1.02     1  0.99\n1972年  0.98  1.02  1.05  1.07  1.08  1.09  1.13  1.19  1.25  1.31  1.36  1.48\n1973年   1.6  1.65  1.61  1.63  1.74  1.82  1.87  1.86  1.83  1.86  1.93  1.84\n1974年  1.64  1.53  1.45  1.34  1.35  1.27  1.18  1.09  1.02  0.95  0.88  0.79\n1975年  0.75  0.71  0.67  0.68  0.63  0.59  0.56  0.55  0.55  0.55  0.55  0.55\n1976年  0.58  0.61  0.63  0.65  0.64  0.66  0.67  0.67  0.66  0.64  0.64  0.62\n1977年  0.61   0.6   0.6  0.61  0.56  0.54  0.53  0.53  0.53  0.53  0.52  0.52\n1978年  0.51  0.53  0.54  0.57  0.54  0.54  0.56  0.57  0.59  0.59   0.6   0.6\n1979年  0.62  0.63  0.66   0.7  0.69  0.71  0.72  0.73  0.75  0.77  0.78  0.79\n1980年  0.77  0.76  0.77  0.77  0.76  0.77  0.76  0.74  0.73  0.73  0.71   0.7\n1981年  0.69  0.68  0.67  0.67  0.67  0.68   0.7  0.69  0.68  0.67  0.66  0.67\n1982年  0.66  0.65  0.63  0.62   0.6   0.6   0.6   0.6   0.6   0.6  0.59  0.59\n1983年  0.59  0.59  0.59  0.59  0.59  0.59  0.59   0.6  0.61  0.62  0.62  0.63\n1984年  0.64  0.64  0.64  0.64  0.64  0.64  0.65  0.65  0.66  0.66  0.66  0.67\n1985年  0.68  0.69  0.68  0.69  0.69  0.69  0.69  0.68  0.68  0.67  0.67  0.67\n1986年  0.67  0.66  0.65  0.63  0.62   0.6   0.6  0.61  0.61  0.61  0.61  0.61\n1987年  0.62  0.63  0.64  0.64  0.65  0.66  0.68  0.71  0.74  0.77  0.81  0.84\n1988年  0.87   0.9  0.92  0.95  0.98  1.01  1.04  1.06  1.08   1.1  1.12  1.14\n1989年  1.15  1.17  1.17  1.19  1.25  1.27   1.3  1.29   1.3  1.31  1.33  1.33\n1990年  1.33  1.36  1.36  1.35  1.39  1.42  1.46  1.44  1.44  1.44  1.45  1.44\n1991年  1.43  1.44  1.44  1.41  1.44  1.44  1.44   1.4  1.36  1.36  1.34  1.31\n1992年  1.25  1.22  1.19  1.14  1.13   1.1  1.08  1.05  1.02  0.99  0.96  0.93\n1993年  0.91  0.88  0.85  0.82   0.8  0.76  0.74  0.72   0.7  0.68  0.67  0.66\n1994年  0.65  0.64  0.65  0.65  0.63  0.63  0.63  0.64  0.65  0.65  0.64  0.63\n1995年  0.64  0.65  0.66  0.65  0.63  0.62  0.61  0.62  0.62  0.62  0.62  0.63\n1996年  0.65  0.66  0.68  0.69  0.69   0.7  0.72  0.72  0.72  0.73  0.74  0.74\n1997年  0.74  0.74  0.74  0.74  0.74  0.74  0.74  0.73  0.71   0.7  0.68  0.67\n1998年  0.63  0.61  0.57  0.56  0.54  0.52  0.51   0.5  0.49  0.48  0.47  0.47\n1999年  0.48  0.48  0.48  0.47  0.46  0.46  0.47  0.47  0.48  0.49  0.49   0.5\n2000年  0.51  0.52  0.54  0.56  0.56  0.58   0.6  0.61  0.62  0.64  0.65  0.65\n2001年  0.65  0.64  0.63  0.62  0.61  0.61   0.6  0.58  0.57  0.54  0.52  0.51\n2002年   0.5  0.51  0.52  0.52  0.53  0.53  0.54  0.55  0.55  0.56  0.56  0.57\n2003年  0.58  0.59   0.6  0.61  0.61  0.62  0.63  0.65  0.67   0.7  0.72  0.75\n2004年  0.76  0.76  0.77  0.78   0.8  0.82  0.83  0.84  0.86  0.88  0.91  0.92\n2005年  0.91  0.91  0.93  0.94  0.94  0.95  0.96  0.96  0.96  0.98  0.99  1.01\n2006年  1.03  1.04  1.05  1.05  1.07  1.07  1.08  1.07  1.07  1.06  1.06  1.06\n2007年  1.06  1.05  1.05  1.07  1.07  1.07  1.06  1.05  1.03  1.01  0.98  0.98\n2008年  0.97  0.96  0.96  0.96  0.95  0.92  0.89  0.86  0.83  0.79  0.75  0.71\n2009年  0.64  0.57  0.52  0.49  0.46  0.44  0.43  0.42  0.43  0.44  0.44  0.44\n2010年  0.45  0.46  0.48  0.49   0.5  0.51  0.53  0.54  0.55  0.56  0.58  0.59\n2011年   0.6  0.62  0.62  0.62  0.61  0.62  0.64  0.65  0.67  0.69  0.71  0.72\n2012年  0.74  0.75  0.77  0.78  0.79   0.8  0.81  0.82  0.81  0.82  0.82  0.83\n2013年  0.84  0.85  0.87  0.88   0.9  0.92  0.93  0.95  0.96  0.99  1.01  1.03\n2014年  1.04  1.06  1.07  1.08  1.09  1.09   1.1   1.1   1.1  1.11  1.12  1.14\n2015年  1.15  1.16  1.16  1.16  1.18  1.19   1.2  1.22  1.23  1.24  1.26  1.27\n2016年  1.29   1.3  1.31  1.33  1.35  1.36  1.36  1.38  1.38   1.4  1.41  1.42\n2017年  1.43  1.45  1.46  1.48  1.48   1.5  1.51  1.52  1.53  1.55  1.56  1.58\n2018年   1.6  1.59  1.59  1.59  1.59  1.62  1.63  1.64  1.64  1.63  1.63  1.62\n2019年  1.64  1.62  1.63  1.62  1.61  1.61   1.6   1.6  1.59  1.58  1.57  1.55\n2020年  1.51  1.45   1.4   1.3  1.18  1.12  1.09  1.05  1.04  1.04  1.05  1.05\n2021年   1.1  1.09   1.1  1.09  1.09  1.13  1.15  1.14  1.16  1.15  1.15   NaN",
      "text/html": "<div>\n<style scoped>\n    .dataframe tbody tr th:only-of-type {\n        vertical-align: middle;\n    }\n\n    .dataframe tbody tr th {\n        vertical-align: top;\n    }\n\n    .dataframe thead th {\n        text-align: right;\n    }\n</style>\n<table border=\"1\" class=\"dataframe\">\n  <thead>\n    <tr style=\"text-align: right;\">\n      <th></th>\n      <th>１月</th>\n      <th>２月</th>\n      <th>３月</th>\n      <th>４月</th>\n      <th>５月</th>\n      <th>６月</th>\n      <th>７月</th>\n      <th>８月</th>\n      <th>９月</th>\n      <th>10月</th>\n      <th>11月</th>\n      <th>12月</th>\n    </tr>\n    <tr>\n      <th>西暦</th>\n      <th></th>\n      <th></th>\n      <th></th>\n      <th></th>\n      <th></th>\n      <th></th>\n      <th></th>\n      <th></th>\n      <th></th>\n      <th></th>\n      <th></th>\n      <th></th>\n    </tr>\n  </thead>\n  <tbody>\n    <tr>\n      <th>1964年</th>\n      <td>0.75</td>\n      <td>0.76</td>\n      <td>0.76</td>\n      <td>0.79</td>\n      <td>0.81</td>\n      <td>0.83</td>\n      <td>0.83</td>\n      <td>0.82</td>\n      <td>0.83</td>\n      <td>0.81</td>\n      <td>0.79</td>\n      <td>0.78</td>\n    </tr>\n    <tr>\n      <th>1965年</th>\n      <td>0.74</td>\n      <td>0.71</td>\n      <td>0.71</td>\n      <td>0.7</td>\n      <td>0.66</td>\n      <td>0.63</td>\n      <td>0.6</td>\n      <td>0.58</td>\n      <td>0.57</td>\n      <td>0.57</td>\n      <td>0.56</td>\n      <td>0.55</td>\n    </tr>\n    <tr>\n      <th>1966年</th>\n      <td>0.58</td>\n      <td>0.62</td>\n      <td>0.67</td>\n      <td>0.7</td>\n      <td>0.71</td>\n      <td>0.73</td>\n      <td>0.72</td>\n      <td>0.78</td>\n      <td>0.82</td>\n      <td>0.85</td>\n      <td>0.85</td>\n      <td>0.85</td>\n    </tr>\n    <tr>\n      <th>1967年</th>\n      <td>0.87</td>\n      <td>0.9</td>\n      <td>0.91</td>\n      <td>0.94</td>\n      <td>0.97</td>\n      <td>1</td>\n      <td>1.02</td>\n      <td>1.08</td>\n      <td>1.09</td>\n      <td>1.09</td>\n      <td>1.11</td>\n      <td>1.1</td>\n    </tr>\n    <tr>\n      <th>1968年</th>\n      <td>1.11</td>\n      <td>1.09</td>\n      <td>1.08</td>\n      <td>1.07</td>\n      <td>1.09</td>\n      <td>1.1</td>\n      <td>1.11</td>\n      <td>1.12</td>\n      <td>1.14</td>\n      <td>1.14</td>\n      <td>1.17</td>\n      <td>1.17</td>\n    </tr>\n    <tr>\n      <th>1969年</th>\n      <td>1.19</td>\n      <td>1.2</td>\n      <td>1.21</td>\n      <td>1.24</td>\n      <td>1.25</td>\n      <td>1.29</td>\n      <td>1.3</td>\n      <td>1.33</td>\n      <td>1.34</td>\n      <td>1.39</td>\n      <td>1.41</td>\n      <td>1.46</td>\n    </tr>\n    <tr>\n      <th>1970年</th>\n      <td>1.49</td>\n      <td>1.47</td>\n      <td>1.44</td>\n      <td>1.43</td>\n      <td>1.43</td>\n      <td>1.44</td>\n      <td>1.41</td>\n      <td>1.39</td>\n      <td>1.39</td>\n      <td>1.36</td>\n      <td>1.33</td>\n      <td>1.31</td>\n    </tr>\n    <tr>\n      <th>1971年</th>\n      <td>1.29</td>\n      <td>1.23</td>\n      <td>1.21</td>\n      <td>1.18</td>\n      <td>1.15</td>\n      <td>1.1</td>\n      <td>1.09</td>\n      <td>1.07</td>\n      <td>1.03</td>\n      <td>1.02</td>\n      <td>1</td>\n      <td>0.99</td>\n    </tr>\n    <tr>\n      <th>1972年</th>\n      <td>0.98</td>\n      <td>1.02</td>\n      <td>1.05</td>\n      <td>1.07</td>\n      <td>1.08</td>\n      <td>1.09</td>\n      <td>1.13</td>\n      <td>1.19</td>\n      <td>1.25</td>\n      <td>1.31</td>\n      <td>1.36</td>\n      <td>1.48</td>\n    </tr>\n    <tr>\n      <th>1973年</th>\n      <td>1.6</td>\n      <td>1.65</td>\n      <td>1.61</td>\n      <td>1.63</td>\n      <td>1.74</td>\n      <td>1.82</td>\n      <td>1.87</td>\n      <td>1.86</td>\n      <td>1.83</td>\n      <td>1.86</td>\n      <td>1.93</td>\n      <td>1.84</td>\n    </tr>\n    <tr>\n      <th>1974年</th>\n      <td>1.64</td>\n      <td>1.53</td>\n      <td>1.45</td>\n      <td>1.34</td>\n      <td>1.35</td>\n      <td>1.27</td>\n      <td>1.18</td>\n      <td>1.09</td>\n      <td>1.02</td>\n      <td>0.95</td>\n      <td>0.88</td>\n      <td>0.79</td>\n    </tr>\n    <tr>\n      <th>1975年</th>\n      <td>0.75</td>\n      <td>0.71</td>\n      <td>0.67</td>\n      <td>0.68</td>\n      <td>0.63</td>\n      <td>0.59</td>\n      <td>0.56</td>\n      <td>0.55</td>\n      <td>0.55</td>\n      <td>0.55</td>\n      <td>0.55</td>\n      <td>0.55</td>\n    </tr>\n    <tr>\n      <th>1976年</th>\n      <td>0.58</td>\n      <td>0.61</td>\n      <td>0.63</td>\n      <td>0.65</td>\n      <td>0.64</td>\n      <td>0.66</td>\n      <td>0.67</td>\n      <td>0.67</td>\n      <td>0.66</td>\n      <td>0.64</td>\n      <td>0.64</td>\n      <td>0.62</td>\n    </tr>\n    <tr>\n      <th>1977年</th>\n      <td>0.61</td>\n      <td>0.6</td>\n      <td>0.6</td>\n      <td>0.61</td>\n      <td>0.56</td>\n      <td>0.54</td>\n      <td>0.53</td>\n      <td>0.53</td>\n      <td>0.53</td>\n      <td>0.53</td>\n      <td>0.52</td>\n      <td>0.52</td>\n    </tr>\n    <tr>\n      <th>1978年</th>\n      <td>0.51</td>\n      <td>0.53</td>\n      <td>0.54</td>\n      <td>0.57</td>\n      <td>0.54</td>\n      <td>0.54</td>\n      <td>0.56</td>\n      <td>0.57</td>\n      <td>0.59</td>\n      <td>0.59</td>\n      <td>0.6</td>\n      <td>0.6</td>\n    </tr>\n    <tr>\n      <th>1979年</th>\n      <td>0.62</td>\n      <td>0.63</td>\n      <td>0.66</td>\n      <td>0.7</td>\n      <td>0.69</td>\n      <td>0.71</td>\n      <td>0.72</td>\n      <td>0.73</td>\n      <td>0.75</td>\n      <td>0.77</td>\n      <td>0.78</td>\n      <td>0.79</td>\n    </tr>\n    <tr>\n      <th>1980年</th>\n      <td>0.77</td>\n      <td>0.76</td>\n      <td>0.77</td>\n      <td>0.77</td>\n      <td>0.76</td>\n      <td>0.77</td>\n      <td>0.76</td>\n      <td>0.74</td>\n      <td>0.73</td>\n      <td>0.73</td>\n      <td>0.71</td>\n      <td>0.7</td>\n    </tr>\n    <tr>\n      <th>1981年</th>\n      <td>0.69</td>\n      <td>0.68</td>\n      <td>0.67</td>\n      <td>0.67</td>\n      <td>0.67</td>\n      <td>0.68</td>\n      <td>0.7</td>\n      <td>0.69</td>\n      <td>0.68</td>\n      <td>0.67</td>\n      <td>0.66</td>\n      <td>0.67</td>\n    </tr>\n    <tr>\n      <th>1982年</th>\n      <td>0.66</td>\n      <td>0.65</td>\n      <td>0.63</td>\n      <td>0.62</td>\n      <td>0.6</td>\n      <td>0.6</td>\n      <td>0.6</td>\n      <td>0.6</td>\n      <td>0.6</td>\n      <td>0.6</td>\n      <td>0.59</td>\n      <td>0.59</td>\n    </tr>\n    <tr>\n      <th>1983年</th>\n      <td>0.59</td>\n      <td>0.59</td>\n      <td>0.59</td>\n      <td>0.59</td>\n      <td>0.59</td>\n      <td>0.59</td>\n      <td>0.59</td>\n      <td>0.6</td>\n      <td>0.61</td>\n      <td>0.62</td>\n      <td>0.62</td>\n      <td>0.63</td>\n    </tr>\n    <tr>\n      <th>1984年</th>\n      <td>0.64</td>\n      <td>0.64</td>\n      <td>0.64</td>\n      <td>0.64</td>\n      <td>0.64</td>\n      <td>0.64</td>\n      <td>0.65</td>\n      <td>0.65</td>\n      <td>0.66</td>\n      <td>0.66</td>\n      <td>0.66</td>\n      <td>0.67</td>\n    </tr>\n    <tr>\n      <th>1985年</th>\n      <td>0.68</td>\n      <td>0.69</td>\n      <td>0.68</td>\n      <td>0.69</td>\n      <td>0.69</td>\n      <td>0.69</td>\n      <td>0.69</td>\n      <td>0.68</td>\n      <td>0.68</td>\n      <td>0.67</td>\n      <td>0.67</td>\n      <td>0.67</td>\n    </tr>\n    <tr>\n      <th>1986年</th>\n      <td>0.67</td>\n      <td>0.66</td>\n      <td>0.65</td>\n      <td>0.63</td>\n      <td>0.62</td>\n      <td>0.6</td>\n      <td>0.6</td>\n      <td>0.61</td>\n      <td>0.61</td>\n      <td>0.61</td>\n      <td>0.61</td>\n      <td>0.61</td>\n    </tr>\n    <tr>\n      <th>1987年</th>\n      <td>0.62</td>\n      <td>0.63</td>\n      <td>0.64</td>\n      <td>0.64</td>\n      <td>0.65</td>\n      <td>0.66</td>\n      <td>0.68</td>\n      <td>0.71</td>\n      <td>0.74</td>\n      <td>0.77</td>\n      <td>0.81</td>\n      <td>0.84</td>\n    </tr>\n    <tr>\n      <th>1988年</th>\n      <td>0.87</td>\n      <td>0.9</td>\n      <td>0.92</td>\n      <td>0.95</td>\n      <td>0.98</td>\n      <td>1.01</td>\n      <td>1.04</td>\n      <td>1.06</td>\n      <td>1.08</td>\n      <td>1.1</td>\n      <td>1.12</td>\n      <td>1.14</td>\n    </tr>\n    <tr>\n      <th>1989年</th>\n      <td>1.15</td>\n      <td>1.17</td>\n      <td>1.17</td>\n      <td>1.19</td>\n      <td>1.25</td>\n      <td>1.27</td>\n      <td>1.3</td>\n      <td>1.29</td>\n      <td>1.3</td>\n      <td>1.31</td>\n      <td>1.33</td>\n      <td>1.33</td>\n    </tr>\n    <tr>\n      <th>1990年</th>\n      <td>1.33</td>\n      <td>1.36</td>\n      <td>1.36</td>\n      <td>1.35</td>\n      <td>1.39</td>\n      <td>1.42</td>\n      <td>1.46</td>\n      <td>1.44</td>\n      <td>1.44</td>\n      <td>1.44</td>\n      <td>1.45</td>\n      <td>1.44</td>\n    </tr>\n    <tr>\n      <th>1991年</th>\n      <td>1.43</td>\n      <td>1.44</td>\n      <td>1.44</td>\n      <td>1.41</td>\n      <td>1.44</td>\n      <td>1.44</td>\n      <td>1.44</td>\n      <td>1.4</td>\n      <td>1.36</td>\n      <td>1.36</td>\n      <td>1.34</td>\n      <td>1.31</td>\n    </tr>\n    <tr>\n      <th>1992年</th>\n      <td>1.25</td>\n      <td>1.22</td>\n      <td>1.19</td>\n      <td>1.14</td>\n      <td>1.13</td>\n      <td>1.1</td>\n      <td>1.08</td>\n      <td>1.05</td>\n      <td>1.02</td>\n      <td>0.99</td>\n      <td>0.96</td>\n      <td>0.93</td>\n    </tr>\n    <tr>\n      <th>1993年</th>\n      <td>0.91</td>\n      <td>0.88</td>\n      <td>0.85</td>\n      <td>0.82</td>\n      <td>0.8</td>\n      <td>0.76</td>\n      <td>0.74</td>\n      <td>0.72</td>\n      <td>0.7</td>\n      <td>0.68</td>\n      <td>0.67</td>\n      <td>0.66</td>\n    </tr>\n    <tr>\n      <th>1994年</th>\n      <td>0.65</td>\n      <td>0.64</td>\n      <td>0.65</td>\n      <td>0.65</td>\n      <td>0.63</td>\n      <td>0.63</td>\n      <td>0.63</td>\n      <td>0.64</td>\n      <td>0.65</td>\n      <td>0.65</td>\n      <td>0.64</td>\n      <td>0.63</td>\n    </tr>\n    <tr>\n      <th>1995年</th>\n      <td>0.64</td>\n      <td>0.65</td>\n      <td>0.66</td>\n      <td>0.65</td>\n      <td>0.63</td>\n      <td>0.62</td>\n      <td>0.61</td>\n      <td>0.62</td>\n      <td>0.62</td>\n      <td>0.62</td>\n      <td>0.62</td>\n      <td>0.63</td>\n    </tr>\n    <tr>\n      <th>1996年</th>\n      <td>0.65</td>\n      <td>0.66</td>\n      <td>0.68</td>\n      <td>0.69</td>\n      <td>0.69</td>\n      <td>0.7</td>\n      <td>0.72</td>\n      <td>0.72</td>\n      <td>0.72</td>\n      <td>0.73</td>\n      <td>0.74</td>\n      <td>0.74</td>\n    </tr>\n    <tr>\n      <th>1997年</th>\n      <td>0.74</td>\n      <td>0.74</td>\n      <td>0.74</td>\n      <td>0.74</td>\n      <td>0.74</td>\n      <td>0.74</td>\n      <td>0.74</td>\n      <td>0.73</td>\n      <td>0.71</td>\n      <td>0.7</td>\n      <td>0.68</td>\n      <td>0.67</td>\n    </tr>\n    <tr>\n      <th>1998年</th>\n      <td>0.63</td>\n      <td>0.61</td>\n      <td>0.57</td>\n      <td>0.56</td>\n      <td>0.54</td>\n      <td>0.52</td>\n      <td>0.51</td>\n      <td>0.5</td>\n      <td>0.49</td>\n      <td>0.48</td>\n      <td>0.47</td>\n      <td>0.47</td>\n    </tr>\n    <tr>\n      <th>1999年</th>\n      <td>0.48</td>\n      <td>0.48</td>\n      <td>0.48</td>\n      <td>0.47</td>\n      <td>0.46</td>\n      <td>0.46</td>\n      <td>0.47</td>\n      <td>0.47</td>\n      <td>0.48</td>\n      <td>0.49</td>\n      <td>0.49</td>\n      <td>0.5</td>\n    </tr>\n    <tr>\n      <th>2000年</th>\n      <td>0.51</td>\n      <td>0.52</td>\n      <td>0.54</td>\n      <td>0.56</td>\n      <td>0.56</td>\n      <td>0.58</td>\n      <td>0.6</td>\n      <td>0.61</td>\n      <td>0.62</td>\n      <td>0.64</td>\n      <td>0.65</td>\n      <td>0.65</td>\n    </tr>\n    <tr>\n      <th>2001年</th>\n      <td>0.65</td>\n      <td>0.64</td>\n      <td>0.63</td>\n      <td>0.62</td>\n      <td>0.61</td>\n      <td>0.61</td>\n      <td>0.6</td>\n      <td>0.58</td>\n      <td>0.57</td>\n      <td>0.54</td>\n      <td>0.52</td>\n      <td>0.51</td>\n    </tr>\n    <tr>\n      <th>2002年</th>\n      <td>0.5</td>\n      <td>0.51</td>\n      <td>0.52</td>\n      <td>0.52</td>\n      <td>0.53</td>\n      <td>0.53</td>\n      <td>0.54</td>\n      <td>0.55</td>\n      <td>0.55</td>\n      <td>0.56</td>\n      <td>0.56</td>\n      <td>0.57</td>\n    </tr>\n    <tr>\n      <th>2003年</th>\n      <td>0.58</td>\n      <td>0.59</td>\n      <td>0.6</td>\n      <td>0.61</td>\n      <td>0.61</td>\n      <td>0.62</td>\n      <td>0.63</td>\n      <td>0.65</td>\n      <td>0.67</td>\n      <td>0.7</td>\n      <td>0.72</td>\n      <td>0.75</td>\n    </tr>\n    <tr>\n      <th>2004年</th>\n      <td>0.76</td>\n      <td>0.76</td>\n      <td>0.77</td>\n      <td>0.78</td>\n      <td>0.8</td>\n      <td>0.82</td>\n      <td>0.83</td>\n      <td>0.84</td>\n      <td>0.86</td>\n      <td>0.88</td>\n      <td>0.91</td>\n      <td>0.92</td>\n    </tr>\n    <tr>\n      <th>2005年</th>\n      <td>0.91</td>\n      <td>0.91</td>\n      <td>0.93</td>\n      <td>0.94</td>\n      <td>0.94</td>\n      <td>0.95</td>\n      <td>0.96</td>\n      <td>0.96</td>\n      <td>0.96</td>\n      <td>0.98</td>\n      <td>0.99</td>\n      <td>1.01</td>\n    </tr>\n    <tr>\n      <th>2006年</th>\n      <td>1.03</td>\n      <td>1.04</td>\n      <td>1.05</td>\n      <td>1.05</td>\n      <td>1.07</td>\n      <td>1.07</td>\n      <td>1.08</td>\n      <td>1.07</td>\n      <td>1.07</td>\n      <td>1.06</td>\n      <td>1.06</td>\n      <td>1.06</td>\n    </tr>\n    <tr>\n      <th>2007年</th>\n      <td>1.06</td>\n      <td>1.05</td>\n      <td>1.05</td>\n      <td>1.07</td>\n      <td>1.07</td>\n      <td>1.07</td>\n      <td>1.06</td>\n      <td>1.05</td>\n      <td>1.03</td>\n      <td>1.01</td>\n      <td>0.98</td>\n      <td>0.98</td>\n    </tr>\n    <tr>\n      <th>2008年</th>\n      <td>0.97</td>\n      <td>0.96</td>\n      <td>0.96</td>\n      <td>0.96</td>\n      <td>0.95</td>\n      <td>0.92</td>\n      <td>0.89</td>\n      <td>0.86</td>\n      <td>0.83</td>\n      <td>0.79</td>\n      <td>0.75</td>\n      <td>0.71</td>\n    </tr>\n    <tr>\n      <th>2009年</th>\n      <td>0.64</td>\n      <td>0.57</td>\n      <td>0.52</td>\n      <td>0.49</td>\n      <td>0.46</td>\n      <td>0.44</td>\n      <td>0.43</td>\n      <td>0.42</td>\n      <td>0.43</td>\n      <td>0.44</td>\n      <td>0.44</td>\n      <td>0.44</td>\n    </tr>\n    <tr>\n      <th>2010年</th>\n      <td>0.45</td>\n      <td>0.46</td>\n      <td>0.48</td>\n      <td>0.49</td>\n      <td>0.5</td>\n      <td>0.51</td>\n      <td>0.53</td>\n      <td>0.54</td>\n      <td>0.55</td>\n      <td>0.56</td>\n      <td>0.58</td>\n      <td>0.59</td>\n    </tr>\n    <tr>\n      <th>2011年</th>\n      <td>0.6</td>\n      <td>0.62</td>\n      <td>0.62</td>\n      <td>0.62</td>\n      <td>0.61</td>\n      <td>0.62</td>\n      <td>0.64</td>\n      <td>0.65</td>\n      <td>0.67</td>\n      <td>0.69</td>\n      <td>0.71</td>\n      <td>0.72</td>\n    </tr>\n    <tr>\n      <th>2012年</th>\n      <td>0.74</td>\n      <td>0.75</td>\n      <td>0.77</td>\n      <td>0.78</td>\n      <td>0.79</td>\n      <td>0.8</td>\n      <td>0.81</td>\n      <td>0.82</td>\n      <td>0.81</td>\n      <td>0.82</td>\n      <td>0.82</td>\n      <td>0.83</td>\n    </tr>\n    <tr>\n      <th>2013年</th>\n      <td>0.84</td>\n      <td>0.85</td>\n      <td>0.87</td>\n      <td>0.88</td>\n      <td>0.9</td>\n      <td>0.92</td>\n      <td>0.93</td>\n      <td>0.95</td>\n      <td>0.96</td>\n      <td>0.99</td>\n      <td>1.01</td>\n      <td>1.03</td>\n    </tr>\n    <tr>\n      <th>2014年</th>\n      <td>1.04</td>\n      <td>1.06</td>\n      <td>1.07</td>\n      <td>1.08</td>\n      <td>1.09</td>\n      <td>1.09</td>\n      <td>1.1</td>\n      <td>1.1</td>\n      <td>1.1</td>\n      <td>1.11</td>\n      <td>1.12</td>\n      <td>1.14</td>\n    </tr>\n    <tr>\n      <th>2015年</th>\n      <td>1.15</td>\n      <td>1.16</td>\n      <td>1.16</td>\n      <td>1.16</td>\n      <td>1.18</td>\n      <td>1.19</td>\n      <td>1.2</td>\n      <td>1.22</td>\n      <td>1.23</td>\n      <td>1.24</td>\n      <td>1.26</td>\n      <td>1.27</td>\n    </tr>\n    <tr>\n      <th>2016年</th>\n      <td>1.29</td>\n      <td>1.3</td>\n      <td>1.31</td>\n      <td>1.33</td>\n      <td>1.35</td>\n      <td>1.36</td>\n      <td>1.36</td>\n      <td>1.38</td>\n      <td>1.38</td>\n      <td>1.4</td>\n      <td>1.41</td>\n      <td>1.42</td>\n    </tr>\n    <tr>\n      <th>2017年</th>\n      <td>1.43</td>\n      <td>1.45</td>\n      <td>1.46</td>\n      <td>1.48</td>\n      <td>1.48</td>\n      <td>1.5</td>\n      <td>1.51</td>\n      <td>1.52</td>\n      <td>1.53</td>\n      <td>1.55</td>\n      <td>1.56</td>\n      <td>1.58</td>\n    </tr>\n    <tr>\n      <th>2018年</th>\n      <td>1.6</td>\n      <td>1.59</td>\n      <td>1.59</td>\n      <td>1.59</td>\n      <td>1.59</td>\n      <td>1.62</td>\n      <td>1.63</td>\n      <td>1.64</td>\n      <td>1.64</td>\n      <td>1.63</td>\n      <td>1.63</td>\n      <td>1.62</td>\n    </tr>\n    <tr>\n      <th>2019年</th>\n      <td>1.64</td>\n      <td>1.62</td>\n      <td>1.63</td>\n      <td>1.62</td>\n      <td>1.61</td>\n      <td>1.61</td>\n      <td>1.6</td>\n      <td>1.6</td>\n      <td>1.59</td>\n      <td>1.58</td>\n      <td>1.57</td>\n      <td>1.55</td>\n    </tr>\n    <tr>\n      <th>2020年</th>\n      <td>1.51</td>\n      <td>1.45</td>\n      <td>1.4</td>\n      <td>1.3</td>\n      <td>1.18</td>\n      <td>1.12</td>\n      <td>1.09</td>\n      <td>1.05</td>\n      <td>1.04</td>\n      <td>1.04</td>\n      <td>1.05</td>\n      <td>1.05</td>\n    </tr>\n    <tr>\n      <th>2021年</th>\n      <td>1.1</td>\n      <td>1.09</td>\n      <td>1.1</td>\n      <td>1.09</td>\n      <td>1.09</td>\n      <td>1.13</td>\n      <td>1.15</td>\n      <td>1.14</td>\n      <td>1.16</td>\n      <td>1.15</td>\n      <td>1.15</td>\n      <td>NaN</td>\n    </tr>\n  </tbody>\n</table>\n</div>"
     },
     "execution_count": 23,
     "metadata": {},
     "output_type": "execute_result"
    }
   ],
   "source": [
    "df_jobs.columns = [c.split('.')[0] for c in df_jobs.columns]\n",
    "df_jobs = df_jobs[1:]\n",
    "df_jobs"
   ],
   "metadata": {
    "collapsed": false,
    "pycharm": {
     "name": "#%%\n"
    }
   }
  },
  {
   "cell_type": "code",
   "execution_count": 24,
   "outputs": [
    {
     "name": "stdout",
     "output_type": "stream",
     "text": [
      "西暦        \n",
      "1964年  １月     0.75\n",
      "       ２月     0.76\n",
      "       ３月     0.76\n",
      "       ４月     0.79\n",
      "       ５月     0.81\n",
      "              ... \n",
      "2021年  ７月     1.15\n",
      "       ８月     1.14\n",
      "       ９月     1.16\n",
      "       10月    1.15\n",
      "       11月    1.15\n",
      "Length: 695, dtype: object\n"
     ]
    }
   ],
   "source": [
    "s_jobs = df_jobs.stack()\n",
    "print(s_jobs)"
   ],
   "metadata": {
    "collapsed": false,
    "pycharm": {
     "name": "#%%\n"
    }
   }
  },
  {
   "cell_type": "code",
   "execution_count": 25,
   "outputs": [
    {
     "data": {
      "text/plain": "[('1964年', '１月'),\n ('1964年', '２月'),\n ('1964年', '３月'),\n ('1964年', '４月'),\n ('1964年', '５月'),\n ('1964年', '６月'),\n ('1964年', '７月'),\n ('1964年', '８月'),\n ('1964年', '９月'),\n ('1964年', '10月'),\n ('1964年', '11月'),\n ('1964年', '12月'),\n ('1965年', '１月'),\n ('1965年', '２月'),\n ('1965年', '３月'),\n ('1965年', '４月'),\n ('1965年', '５月'),\n ('1965年', '６月'),\n ('1965年', '７月'),\n ('1965年', '８月'),\n ('1965年', '９月'),\n ('1965年', '10月'),\n ('1965年', '11月'),\n ('1965年', '12月'),\n ('1966年', '１月'),\n ('1966年', '２月'),\n ('1966年', '３月'),\n ('1966年', '４月'),\n ('1966年', '５月'),\n ('1966年', '６月'),\n ('1966年', '７月'),\n ('1966年', '８月'),\n ('1966年', '９月'),\n ('1966年', '10月'),\n ('1966年', '11月'),\n ('1966年', '12月'),\n ('1967年', '１月'),\n ('1967年', '２月'),\n ('1967年', '３月'),\n ('1967年', '４月'),\n ('1967年', '５月'),\n ('1967年', '６月'),\n ('1967年', '７月'),\n ('1967年', '８月'),\n ('1967年', '９月'),\n ('1967年', '10月'),\n ('1967年', '11月'),\n ('1967年', '12月'),\n ('1968年', '１月'),\n ('1968年', '２月'),\n ('1968年', '３月'),\n ('1968年', '４月'),\n ('1968年', '５月'),\n ('1968年', '６月'),\n ('1968年', '７月'),\n ('1968年', '８月'),\n ('1968年', '９月'),\n ('1968年', '10月'),\n ('1968年', '11月'),\n ('1968年', '12月'),\n ('1969年', '１月'),\n ('1969年', '２月'),\n ('1969年', '３月'),\n ('1969年', '４月'),\n ('1969年', '５月'),\n ('1969年', '６月'),\n ('1969年', '７月'),\n ('1969年', '８月'),\n ('1969年', '９月'),\n ('1969年', '10月'),\n ('1969年', '11月'),\n ('1969年', '12月'),\n ('1970年', '１月'),\n ('1970年', '２月'),\n ('1970年', '３月'),\n ('1970年', '４月'),\n ('1970年', '５月'),\n ('1970年', '６月'),\n ('1970年', '７月'),\n ('1970年', '８月'),\n ('1970年', '９月'),\n ('1970年', '10月'),\n ('1970年', '11月'),\n ('1970年', '12月'),\n ('1971年', '１月'),\n ('1971年', '２月'),\n ('1971年', '３月'),\n ('1971年', '４月'),\n ('1971年', '５月'),\n ('1971年', '６月'),\n ('1971年', '７月'),\n ('1971年', '８月'),\n ('1971年', '９月'),\n ('1971年', '10月'),\n ('1971年', '11月'),\n ('1971年', '12月'),\n ('1972年', '１月'),\n ('1972年', '２月'),\n ('1972年', '３月'),\n ('1972年', '４月'),\n ('1972年', '５月'),\n ('1972年', '６月'),\n ('1972年', '７月'),\n ('1972年', '８月'),\n ('1972年', '９月'),\n ('1972年', '10月'),\n ('1972年', '11月'),\n ('1972年', '12月'),\n ('1973年', '１月'),\n ('1973年', '２月'),\n ('1973年', '３月'),\n ('1973年', '４月'),\n ('1973年', '５月'),\n ('1973年', '６月'),\n ('1973年', '７月'),\n ('1973年', '８月'),\n ('1973年', '９月'),\n ('1973年', '10月'),\n ('1973年', '11月'),\n ('1973年', '12月'),\n ('1974年', '１月'),\n ('1974年', '２月'),\n ('1974年', '３月'),\n ('1974年', '４月'),\n ('1974年', '５月'),\n ('1974年', '６月'),\n ('1974年', '７月'),\n ('1974年', '８月'),\n ('1974年', '９月'),\n ('1974年', '10月'),\n ('1974年', '11月'),\n ('1974年', '12月'),\n ('1975年', '１月'),\n ('1975年', '２月'),\n ('1975年', '３月'),\n ('1975年', '４月'),\n ('1975年', '５月'),\n ('1975年', '６月'),\n ('1975年', '７月'),\n ('1975年', '８月'),\n ('1975年', '９月'),\n ('1975年', '10月'),\n ('1975年', '11月'),\n ('1975年', '12月'),\n ('1976年', '１月'),\n ('1976年', '２月'),\n ('1976年', '３月'),\n ('1976年', '４月'),\n ('1976年', '５月'),\n ('1976年', '６月'),\n ('1976年', '７月'),\n ('1976年', '８月'),\n ('1976年', '９月'),\n ('1976年', '10月'),\n ('1976年', '11月'),\n ('1976年', '12月'),\n ('1977年', '１月'),\n ('1977年', '２月'),\n ('1977年', '３月'),\n ('1977年', '４月'),\n ('1977年', '５月'),\n ('1977年', '６月'),\n ('1977年', '７月'),\n ('1977年', '８月'),\n ('1977年', '９月'),\n ('1977年', '10月'),\n ('1977年', '11月'),\n ('1977年', '12月'),\n ('1978年', '１月'),\n ('1978年', '２月'),\n ('1978年', '３月'),\n ('1978年', '４月'),\n ('1978年', '５月'),\n ('1978年', '６月'),\n ('1978年', '７月'),\n ('1978年', '８月'),\n ('1978年', '９月'),\n ('1978年', '10月'),\n ('1978年', '11月'),\n ('1978年', '12月'),\n ('1979年', '１月'),\n ('1979年', '２月'),\n ('1979年', '３月'),\n ('1979年', '４月'),\n ('1979年', '５月'),\n ('1979年', '６月'),\n ('1979年', '７月'),\n ('1979年', '８月'),\n ('1979年', '９月'),\n ('1979年', '10月'),\n ('1979年', '11月'),\n ('1979年', '12月'),\n ('1980年', '１月'),\n ('1980年', '２月'),\n ('1980年', '３月'),\n ('1980年', '４月'),\n ('1980年', '５月'),\n ('1980年', '６月'),\n ('1980年', '７月'),\n ('1980年', '８月'),\n ('1980年', '９月'),\n ('1980年', '10月'),\n ('1980年', '11月'),\n ('1980年', '12月'),\n ('1981年', '１月'),\n ('1981年', '２月'),\n ('1981年', '３月'),\n ('1981年', '４月'),\n ('1981年', '５月'),\n ('1981年', '６月'),\n ('1981年', '７月'),\n ('1981年', '８月'),\n ('1981年', '９月'),\n ('1981年', '10月'),\n ('1981年', '11月'),\n ('1981年', '12月'),\n ('1982年', '１月'),\n ('1982年', '２月'),\n ('1982年', '３月'),\n ('1982年', '４月'),\n ('1982年', '５月'),\n ('1982年', '６月'),\n ('1982年', '７月'),\n ('1982年', '８月'),\n ('1982年', '９月'),\n ('1982年', '10月'),\n ('1982年', '11月'),\n ('1982年', '12月'),\n ('1983年', '１月'),\n ('1983年', '２月'),\n ('1983年', '３月'),\n ('1983年', '４月'),\n ('1983年', '５月'),\n ('1983年', '６月'),\n ('1983年', '７月'),\n ('1983年', '８月'),\n ('1983年', '９月'),\n ('1983年', '10月'),\n ('1983年', '11月'),\n ('1983年', '12月'),\n ('1984年', '１月'),\n ('1984年', '２月'),\n ('1984年', '３月'),\n ('1984年', '４月'),\n ('1984年', '５月'),\n ('1984年', '６月'),\n ('1984年', '７月'),\n ('1984年', '８月'),\n ('1984年', '９月'),\n ('1984年', '10月'),\n ('1984年', '11月'),\n ('1984年', '12月'),\n ('1985年', '１月'),\n ('1985年', '２月'),\n ('1985年', '３月'),\n ('1985年', '４月'),\n ('1985年', '５月'),\n ('1985年', '６月'),\n ('1985年', '７月'),\n ('1985年', '８月'),\n ('1985年', '９月'),\n ('1985年', '10月'),\n ('1985年', '11月'),\n ('1985年', '12月'),\n ('1986年', '１月'),\n ('1986年', '２月'),\n ('1986年', '３月'),\n ('1986年', '４月'),\n ('1986年', '５月'),\n ('1986年', '６月'),\n ('1986年', '７月'),\n ('1986年', '８月'),\n ('1986年', '９月'),\n ('1986年', '10月'),\n ('1986年', '11月'),\n ('1986年', '12月'),\n ('1987年', '１月'),\n ('1987年', '２月'),\n ('1987年', '３月'),\n ('1987年', '４月'),\n ('1987年', '５月'),\n ('1987年', '６月'),\n ('1987年', '７月'),\n ('1987年', '８月'),\n ('1987年', '９月'),\n ('1987年', '10月'),\n ('1987年', '11月'),\n ('1987年', '12月'),\n ('1988年', '１月'),\n ('1988年', '２月'),\n ('1988年', '３月'),\n ('1988年', '４月'),\n ('1988年', '５月'),\n ('1988年', '６月'),\n ('1988年', '７月'),\n ('1988年', '８月'),\n ('1988年', '９月'),\n ('1988年', '10月'),\n ('1988年', '11月'),\n ('1988年', '12月'),\n ('1989年', '１月'),\n ('1989年', '２月'),\n ('1989年', '３月'),\n ('1989年', '４月'),\n ('1989年', '５月'),\n ('1989年', '６月'),\n ('1989年', '７月'),\n ('1989年', '８月'),\n ('1989年', '９月'),\n ('1989年', '10月'),\n ('1989年', '11月'),\n ('1989年', '12月'),\n ('1990年', '１月'),\n ('1990年', '２月'),\n ('1990年', '３月'),\n ('1990年', '４月'),\n ('1990年', '５月'),\n ('1990年', '６月'),\n ('1990年', '７月'),\n ('1990年', '８月'),\n ('1990年', '９月'),\n ('1990年', '10月'),\n ('1990年', '11月'),\n ('1990年', '12月'),\n ('1991年', '１月'),\n ('1991年', '２月'),\n ('1991年', '３月'),\n ('1991年', '４月'),\n ('1991年', '５月'),\n ('1991年', '６月'),\n ('1991年', '７月'),\n ('1991年', '８月'),\n ('1991年', '９月'),\n ('1991年', '10月'),\n ('1991年', '11月'),\n ('1991年', '12月'),\n ('1992年', '１月'),\n ('1992年', '２月'),\n ('1992年', '３月'),\n ('1992年', '４月'),\n ('1992年', '５月'),\n ('1992年', '６月'),\n ('1992年', '７月'),\n ('1992年', '８月'),\n ('1992年', '９月'),\n ('1992年', '10月'),\n ('1992年', '11月'),\n ('1992年', '12月'),\n ('1993年', '１月'),\n ('1993年', '２月'),\n ('1993年', '３月'),\n ('1993年', '４月'),\n ('1993年', '５月'),\n ('1993年', '６月'),\n ('1993年', '７月'),\n ('1993年', '８月'),\n ('1993年', '９月'),\n ('1993年', '10月'),\n ('1993年', '11月'),\n ('1993年', '12月'),\n ('1994年', '１月'),\n ('1994年', '２月'),\n ('1994年', '３月'),\n ('1994年', '４月'),\n ('1994年', '５月'),\n ('1994年', '６月'),\n ('1994年', '７月'),\n ('1994年', '８月'),\n ('1994年', '９月'),\n ('1994年', '10月'),\n ('1994年', '11月'),\n ('1994年', '12月'),\n ('1995年', '１月'),\n ('1995年', '２月'),\n ('1995年', '３月'),\n ('1995年', '４月'),\n ('1995年', '５月'),\n ('1995年', '６月'),\n ('1995年', '７月'),\n ('1995年', '８月'),\n ('1995年', '９月'),\n ('1995年', '10月'),\n ('1995年', '11月'),\n ('1995年', '12月'),\n ('1996年', '１月'),\n ('1996年', '２月'),\n ('1996年', '３月'),\n ('1996年', '４月'),\n ('1996年', '５月'),\n ('1996年', '６月'),\n ('1996年', '７月'),\n ('1996年', '８月'),\n ('1996年', '９月'),\n ('1996年', '10月'),\n ('1996年', '11月'),\n ('1996年', '12月'),\n ('1997年', '１月'),\n ('1997年', '２月'),\n ('1997年', '３月'),\n ('1997年', '４月'),\n ('1997年', '５月'),\n ('1997年', '６月'),\n ('1997年', '７月'),\n ('1997年', '８月'),\n ('1997年', '９月'),\n ('1997年', '10月'),\n ('1997年', '11月'),\n ('1997年', '12月'),\n ('1998年', '１月'),\n ('1998年', '２月'),\n ('1998年', '３月'),\n ('1998年', '４月'),\n ('1998年', '５月'),\n ('1998年', '６月'),\n ('1998年', '７月'),\n ('1998年', '８月'),\n ('1998年', '９月'),\n ('1998年', '10月'),\n ('1998年', '11月'),\n ('1998年', '12月'),\n ('1999年', '１月'),\n ('1999年', '２月'),\n ('1999年', '３月'),\n ('1999年', '４月'),\n ('1999年', '５月'),\n ('1999年', '６月'),\n ('1999年', '７月'),\n ('1999年', '８月'),\n ('1999年', '９月'),\n ('1999年', '10月'),\n ('1999年', '11月'),\n ('1999年', '12月'),\n ('2000年', '１月'),\n ('2000年', '２月'),\n ('2000年', '３月'),\n ('2000年', '４月'),\n ('2000年', '５月'),\n ('2000年', '６月'),\n ('2000年', '７月'),\n ('2000年', '８月'),\n ('2000年', '９月'),\n ('2000年', '10月'),\n ('2000年', '11月'),\n ('2000年', '12月'),\n ('2001年', '１月'),\n ('2001年', '２月'),\n ('2001年', '３月'),\n ('2001年', '４月'),\n ('2001年', '５月'),\n ('2001年', '６月'),\n ('2001年', '７月'),\n ('2001年', '８月'),\n ('2001年', '９月'),\n ('2001年', '10月'),\n ('2001年', '11月'),\n ('2001年', '12月'),\n ('2002年', '１月'),\n ('2002年', '２月'),\n ('2002年', '３月'),\n ('2002年', '４月'),\n ('2002年', '５月'),\n ('2002年', '６月'),\n ('2002年', '７月'),\n ('2002年', '８月'),\n ('2002年', '９月'),\n ('2002年', '10月'),\n ('2002年', '11月'),\n ('2002年', '12月'),\n ('2003年', '１月'),\n ('2003年', '２月'),\n ('2003年', '３月'),\n ('2003年', '４月'),\n ('2003年', '５月'),\n ('2003年', '６月'),\n ('2003年', '７月'),\n ('2003年', '８月'),\n ('2003年', '９月'),\n ('2003年', '10月'),\n ('2003年', '11月'),\n ('2003年', '12月'),\n ('2004年', '１月'),\n ('2004年', '２月'),\n ('2004年', '３月'),\n ('2004年', '４月'),\n ('2004年', '５月'),\n ('2004年', '６月'),\n ('2004年', '７月'),\n ('2004年', '８月'),\n ('2004年', '９月'),\n ('2004年', '10月'),\n ('2004年', '11月'),\n ('2004年', '12月'),\n ('2005年', '１月'),\n ('2005年', '２月'),\n ('2005年', '３月'),\n ('2005年', '４月'),\n ('2005年', '５月'),\n ('2005年', '６月'),\n ('2005年', '７月'),\n ('2005年', '８月'),\n ('2005年', '９月'),\n ('2005年', '10月'),\n ('2005年', '11月'),\n ('2005年', '12月'),\n ('2006年', '１月'),\n ('2006年', '２月'),\n ('2006年', '３月'),\n ('2006年', '４月'),\n ('2006年', '５月'),\n ('2006年', '６月'),\n ('2006年', '７月'),\n ('2006年', '８月'),\n ('2006年', '９月'),\n ('2006年', '10月'),\n ('2006年', '11月'),\n ('2006年', '12月'),\n ('2007年', '１月'),\n ('2007年', '２月'),\n ('2007年', '３月'),\n ('2007年', '４月'),\n ('2007年', '５月'),\n ('2007年', '６月'),\n ('2007年', '７月'),\n ('2007年', '８月'),\n ('2007年', '９月'),\n ('2007年', '10月'),\n ('2007年', '11月'),\n ('2007年', '12月'),\n ('2008年', '１月'),\n ('2008年', '２月'),\n ('2008年', '３月'),\n ('2008年', '４月'),\n ('2008年', '５月'),\n ('2008年', '６月'),\n ('2008年', '７月'),\n ('2008年', '８月'),\n ('2008年', '９月'),\n ('2008年', '10月'),\n ('2008年', '11月'),\n ('2008年', '12月'),\n ('2009年', '１月'),\n ('2009年', '２月'),\n ('2009年', '３月'),\n ('2009年', '４月'),\n ('2009年', '５月'),\n ('2009年', '６月'),\n ('2009年', '７月'),\n ('2009年', '８月'),\n ('2009年', '９月'),\n ('2009年', '10月'),\n ('2009年', '11月'),\n ('2009年', '12月'),\n ('2010年', '１月'),\n ('2010年', '２月'),\n ('2010年', '３月'),\n ('2010年', '４月'),\n ('2010年', '５月'),\n ('2010年', '６月'),\n ('2010年', '７月'),\n ('2010年', '８月'),\n ('2010年', '９月'),\n ('2010年', '10月'),\n ('2010年', '11月'),\n ('2010年', '12月'),\n ('2011年', '１月'),\n ('2011年', '２月'),\n ('2011年', '３月'),\n ('2011年', '４月'),\n ('2011年', '５月'),\n ('2011年', '６月'),\n ('2011年', '７月'),\n ('2011年', '８月'),\n ('2011年', '９月'),\n ('2011年', '10月'),\n ('2011年', '11月'),\n ('2011年', '12月'),\n ('2012年', '１月'),\n ('2012年', '２月'),\n ('2012年', '３月'),\n ('2012年', '４月'),\n ('2012年', '５月'),\n ('2012年', '６月'),\n ('2012年', '７月'),\n ('2012年', '８月'),\n ('2012年', '９月'),\n ('2012年', '10月'),\n ('2012年', '11月'),\n ('2012年', '12月'),\n ('2013年', '１月'),\n ('2013年', '２月'),\n ('2013年', '３月'),\n ('2013年', '４月'),\n ('2013年', '５月'),\n ('2013年', '６月'),\n ('2013年', '７月'),\n ('2013年', '８月'),\n ('2013年', '９月'),\n ('2013年', '10月'),\n ('2013年', '11月'),\n ('2013年', '12月'),\n ('2014年', '１月'),\n ('2014年', '２月'),\n ('2014年', '３月'),\n ('2014年', '４月'),\n ('2014年', '５月'),\n ('2014年', '６月'),\n ('2014年', '７月'),\n ('2014年', '８月'),\n ('2014年', '９月'),\n ('2014年', '10月'),\n ('2014年', '11月'),\n ('2014年', '12月'),\n ('2015年', '１月'),\n ('2015年', '２月'),\n ('2015年', '３月'),\n ('2015年', '４月'),\n ('2015年', '５月'),\n ('2015年', '６月'),\n ('2015年', '７月'),\n ('2015年', '８月'),\n ('2015年', '９月'),\n ('2015年', '10月'),\n ('2015年', '11月'),\n ('2015年', '12月'),\n ('2016年', '１月'),\n ('2016年', '２月'),\n ('2016年', '３月'),\n ('2016年', '４月'),\n ('2016年', '５月'),\n ('2016年', '６月'),\n ('2016年', '７月'),\n ('2016年', '８月'),\n ('2016年', '９月'),\n ('2016年', '10月'),\n ('2016年', '11月'),\n ('2016年', '12月'),\n ('2017年', '１月'),\n ('2017年', '２月'),\n ('2017年', '３月'),\n ('2017年', '４月'),\n ('2017年', '５月'),\n ('2017年', '６月'),\n ('2017年', '７月'),\n ('2017年', '８月'),\n ('2017年', '９月'),\n ('2017年', '10月'),\n ('2017年', '11月'),\n ('2017年', '12月'),\n ('2018年', '１月'),\n ('2018年', '２月'),\n ('2018年', '３月'),\n ('2018年', '４月'),\n ('2018年', '５月'),\n ('2018年', '６月'),\n ('2018年', '７月'),\n ('2018年', '８月'),\n ('2018年', '９月'),\n ('2018年', '10月'),\n ('2018年', '11月'),\n ('2018年', '12月'),\n ('2019年', '１月'),\n ('2019年', '２月'),\n ('2019年', '３月'),\n ('2019年', '４月'),\n ('2019年', '５月'),\n ('2019年', '６月'),\n ('2019年', '７月'),\n ('2019年', '８月'),\n ('2019年', '９月'),\n ('2019年', '10月'),\n ('2019年', '11月'),\n ('2019年', '12月'),\n ('2020年', '１月'),\n ('2020年', '２月'),\n ('2020年', '３月'),\n ('2020年', '４月'),\n ('2020年', '５月'),\n ('2020年', '６月'),\n ('2020年', '７月'),\n ('2020年', '８月'),\n ('2020年', '９月'),\n ('2020年', '10月'),\n ('2020年', '11月'),\n ('2020年', '12月'),\n ('2021年', '１月'),\n ('2021年', '２月'),\n ('2021年', '３月'),\n ('2021年', '４月'),\n ('2021年', '５月'),\n ('2021年', '６月'),\n ('2021年', '７月'),\n ('2021年', '８月'),\n ('2021年', '９月'),\n ('2021年', '10月'),\n ('2021年', '11月')]"
     },
     "execution_count": 25,
     "metadata": {},
     "output_type": "execute_result"
    }
   ],
   "source": [
    "list(s_jobs.index)"
   ],
   "metadata": {
    "collapsed": false,
    "pycharm": {
     "name": "#%%\n"
    }
   }
  },
  {
   "cell_type": "code",
   "execution_count": 30,
   "outputs": [],
   "source": [
    "from datetime import datetime\n",
    "def parse_year_and_month(year, month):\n",
    "    year = int(year[:-1]) # \"年\"を除去して数値に変換\n",
    "    month = int(month[:-1]) # \"月\"を除去して数値に変換\n",
    "    return datetime(year, month, 1) # datetime object を作成する。"
   ],
   "metadata": {
    "collapsed": false,
    "pycharm": {
     "name": "#%%\n"
    }
   }
  },
  {
   "cell_type": "code",
   "execution_count": 31,
   "outputs": [
    {
     "data": {
      "text/plain": "datetime.datetime(1963, 1, 1, 0, 0)"
     },
     "execution_count": 31,
     "metadata": {},
     "output_type": "execute_result"
    }
   ],
   "source": [
    "parse_year_and_month('1963年', '１月')"
   ],
   "metadata": {
    "collapsed": false,
    "pycharm": {
     "name": "#%%\n"
    }
   }
  },
  {
   "cell_type": "code",
   "execution_count": 33,
   "outputs": [
    {
     "data": {
      "text/plain": "datetime.datetime(2018, 12, 1, 0, 0)"
     },
     "execution_count": 33,
     "metadata": {},
     "output_type": "execute_result"
    }
   ],
   "source": [
    "parse_year_and_month('2018年', '12月')"
   ],
   "metadata": {
    "collapsed": false,
    "pycharm": {
     "name": "#%%\n"
    }
   }
  },
  {
   "cell_type": "code",
   "execution_count": 34,
   "outputs": [],
   "source": [
    "s_jobs.index = [parse_year_and_month(y, m) for y, m in s_jobs.index]"
   ],
   "metadata": {
    "collapsed": false,
    "pycharm": {
     "name": "#%%\n"
    }
   }
  },
  {
   "cell_type": "code",
   "execution_count": 35,
   "outputs": [
    {
     "data": {
      "text/plain": "1964-01-01    0.75\n1964-02-01    0.76\n1964-03-01    0.76\n1964-04-01    0.79\n1964-05-01    0.81\n              ... \n2021-07-01    1.15\n2021-08-01    1.14\n2021-09-01    1.16\n2021-10-01    1.15\n2021-11-01    1.15\nLength: 695, dtype: object"
     },
     "execution_count": 35,
     "metadata": {},
     "output_type": "execute_result"
    }
   ],
   "source": [
    "s_jobs"
   ],
   "metadata": {
    "collapsed": false,
    "pycharm": {
     "name": "#%%\n"
    }
   }
  },
  {
   "cell_type": "code",
   "execution_count": null,
   "outputs": [],
   "source": [],
   "metadata": {
    "collapsed": false,
    "pycharm": {
     "name": "#%%\n"
    }
   }
  }
 ],
 "metadata": {
  "kernelspec": {
   "display_name": "Python 3",
   "language": "python",
   "name": "python3"
  },
  "language_info": {
   "codemirror_mode": {
    "name": "ipython",
    "version": 2
   },
   "file_extension": ".py",
   "mimetype": "text/x-python",
   "name": "python",
   "nbconvert_exporter": "python",
   "pygments_lexer": "ipython2",
   "version": "2.7.6"
  }
 },
 "nbformat": 4,
 "nbformat_minor": 0
}