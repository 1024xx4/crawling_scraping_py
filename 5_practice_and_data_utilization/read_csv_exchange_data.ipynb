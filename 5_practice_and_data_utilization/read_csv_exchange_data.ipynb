{
 "cells": [
  {
   "cell_type": "code",
   "execution_count": 1,
   "outputs": [],
   "source": [
    "import pandas as pd"
   ],
   "metadata": {
    "collapsed": false,
    "pycharm": {
     "name": "#%%\n"
    }
   }
  },
  {
   "cell_type": "code",
   "execution_count": 2,
   "outputs": [
    {
     "data": {
      "text/plain": "      データコード               FM08'FXERM07 FM09'FX180110002\n0       系列名称  東京市場　ドル・円　スポット　17時時点/月中平均      実質実効為替レート指数\n1    1970/01                        NaN            58.31\n2    1970/02                        NaN            57.98\n3    1970/03                        NaN            58.19\n4    1970/04                        NaN            58.25\n..       ...                        ...              ...\n620  2021/08                     109.82            71.08\n621  2021/09                      110.2            70.86\n622  2021/10                     113.09             68.6\n623  2021/11                     114.03            67.79\n624  2021/12                     113.88              NaN\n\n[625 rows x 3 columns]",
      "text/html": "<div>\n<style scoped>\n    .dataframe tbody tr th:only-of-type {\n        vertical-align: middle;\n    }\n\n    .dataframe tbody tr th {\n        vertical-align: top;\n    }\n\n    .dataframe thead th {\n        text-align: right;\n    }\n</style>\n<table border=\"1\" class=\"dataframe\">\n  <thead>\n    <tr style=\"text-align: right;\">\n      <th></th>\n      <th>データコード</th>\n      <th>FM08'FXERM07</th>\n      <th>FM09'FX180110002</th>\n    </tr>\n  </thead>\n  <tbody>\n    <tr>\n      <th>0</th>\n      <td>系列名称</td>\n      <td>東京市場　ドル・円　スポット　17時時点/月中平均</td>\n      <td>実質実効為替レート指数</td>\n    </tr>\n    <tr>\n      <th>1</th>\n      <td>1970/01</td>\n      <td>NaN</td>\n      <td>58.31</td>\n    </tr>\n    <tr>\n      <th>2</th>\n      <td>1970/02</td>\n      <td>NaN</td>\n      <td>57.98</td>\n    </tr>\n    <tr>\n      <th>3</th>\n      <td>1970/03</td>\n      <td>NaN</td>\n      <td>58.19</td>\n    </tr>\n    <tr>\n      <th>4</th>\n      <td>1970/04</td>\n      <td>NaN</td>\n      <td>58.25</td>\n    </tr>\n    <tr>\n      <th>...</th>\n      <td>...</td>\n      <td>...</td>\n      <td>...</td>\n    </tr>\n    <tr>\n      <th>620</th>\n      <td>2021/08</td>\n      <td>109.82</td>\n      <td>71.08</td>\n    </tr>\n    <tr>\n      <th>621</th>\n      <td>2021/09</td>\n      <td>110.2</td>\n      <td>70.86</td>\n    </tr>\n    <tr>\n      <th>622</th>\n      <td>2021/10</td>\n      <td>113.09</td>\n      <td>68.6</td>\n    </tr>\n    <tr>\n      <th>623</th>\n      <td>2021/11</td>\n      <td>114.03</td>\n      <td>67.79</td>\n    </tr>\n    <tr>\n      <th>624</th>\n      <td>2021/12</td>\n      <td>113.88</td>\n      <td>NaN</td>\n    </tr>\n  </tbody>\n</table>\n<p>625 rows × 3 columns</p>\n</div>"
     },
     "execution_count": 2,
     "metadata": {},
     "output_type": "execute_result"
    }
   ],
   "source": [
    "pd.read_csv('exchange.csv', encoding='cp932')"
   ],
   "metadata": {
    "collapsed": false,
    "pycharm": {
     "name": "#%%\n"
    }
   }
  },
  {
   "cell_type": "markdown",
   "source": [
    "#### 上記、DataFrame の問題点\n",
    "- CSV File では Header が２行あるが、２行目が Data として扱われている\n",
    "- 列名が長い日本語で扱いづらい。\n",
    "- 年月の列があるのに Index として連番が使われている"
   ],
   "metadata": {
    "collapsed": false,
    "pycharm": {
     "name": "#%% md\n"
    }
   }
  },
  {
   "cell_type": "code",
   "execution_count": 3,
   "outputs": [
    {
     "data": {
      "text/plain": "               USD   rate\ndata                     \n1970-01-01     NaN  58.31\n1970-02-01     NaN  57.98\n1970-03-01     NaN  58.19\n1970-04-01     NaN  58.25\n1970-05-01     NaN  57.85\n...            ...    ...\n2021-08-01  109.82  71.08\n2021-09-01  110.20  70.86\n2021-10-01  113.09  68.60\n2021-11-01  114.03  67.79\n2021-12-01  113.88    NaN\n\n[624 rows x 2 columns]",
      "text/html": "<div>\n<style scoped>\n    .dataframe tbody tr th:only-of-type {\n        vertical-align: middle;\n    }\n\n    .dataframe tbody tr th {\n        vertical-align: top;\n    }\n\n    .dataframe thead th {\n        text-align: right;\n    }\n</style>\n<table border=\"1\" class=\"dataframe\">\n  <thead>\n    <tr style=\"text-align: right;\">\n      <th></th>\n      <th>USD</th>\n      <th>rate</th>\n    </tr>\n    <tr>\n      <th>data</th>\n      <th></th>\n      <th></th>\n    </tr>\n  </thead>\n  <tbody>\n    <tr>\n      <th>1970-01-01</th>\n      <td>NaN</td>\n      <td>58.31</td>\n    </tr>\n    <tr>\n      <th>1970-02-01</th>\n      <td>NaN</td>\n      <td>57.98</td>\n    </tr>\n    <tr>\n      <th>1970-03-01</th>\n      <td>NaN</td>\n      <td>58.19</td>\n    </tr>\n    <tr>\n      <th>1970-04-01</th>\n      <td>NaN</td>\n      <td>58.25</td>\n    </tr>\n    <tr>\n      <th>1970-05-01</th>\n      <td>NaN</td>\n      <td>57.85</td>\n    </tr>\n    <tr>\n      <th>...</th>\n      <td>...</td>\n      <td>...</td>\n    </tr>\n    <tr>\n      <th>2021-08-01</th>\n      <td>109.82</td>\n      <td>71.08</td>\n    </tr>\n    <tr>\n      <th>2021-09-01</th>\n      <td>110.20</td>\n      <td>70.86</td>\n    </tr>\n    <tr>\n      <th>2021-10-01</th>\n      <td>113.09</td>\n      <td>68.60</td>\n    </tr>\n    <tr>\n      <th>2021-11-01</th>\n      <td>114.03</td>\n      <td>67.79</td>\n    </tr>\n    <tr>\n      <th>2021-12-01</th>\n      <td>113.88</td>\n      <td>NaN</td>\n    </tr>\n  </tbody>\n</table>\n<p>624 rows × 2 columns</p>\n</div>"
     },
     "execution_count": 3,
     "metadata": {},
     "output_type": "execute_result"
    }
   ],
   "source": [
    "df_exchange = pd.read_csv('exchange.csv', encoding='cp932', header=1, names=['data', 'USD', 'rate'], index_col=0, parse_dates=True)\n",
    "df_exchange"
   ],
   "metadata": {
    "collapsed": false,
    "pycharm": {
     "name": "#%%\n"
    }
   }
  },
  {
   "cell_type": "markdown",
   "source": [
    "#### read_csv()関数の特筆点\n",
    "型推論によって各列の型の推論と変換が自動的に行なわれる"
   ],
   "metadata": {
    "collapsed": false,
    "pycharm": {
     "name": "#%% md\n"
    }
   }
  },
  {
   "cell_type": "code",
   "execution_count": 4,
   "outputs": [
    {
     "data": {
      "text/plain": "58.31"
     },
     "execution_count": 4,
     "metadata": {},
     "output_type": "execute_result"
    }
   ],
   "source": [
    "df_exchange['rate'][0]"
   ],
   "metadata": {
    "collapsed": false,
    "pycharm": {
     "name": "#%%\n"
    }
   }
  },
  {
   "cell_type": "code",
   "execution_count": 6,
   "outputs": [
    {
     "data": {
      "text/plain": "numpy.float64"
     },
     "execution_count": 6,
     "metadata": {},
     "output_type": "execute_result"
    }
   ],
   "source": [
    "type(df_exchange['rate'][0])"
   ],
   "metadata": {
    "collapsed": false,
    "pycharm": {
     "name": "#%%\n"
    }
   }
  },
  {
   "cell_type": "markdown",
   "source": [
    "## CSV File の読み込み（国債金利 Data）"
   ],
   "metadata": {
    "collapsed": false,
    "pycharm": {
     "name": "#%% md\n"
    }
   }
  },
  {
   "cell_type": "code",
   "execution_count": 10,
   "outputs": [],
   "source": [
    "from datetime import datetime\n",
    "\n",
    "def parse_japanese_date(s):\n",
    "    base_years = {'S': 1925, 'H': 1988, 'R': 2018} # 昭和以降の元号の０年に相当する年を定義しておく。\n",
    "    era = s[0] # 元号を表す Alphabet １文字を取得。\n",
    "    year, month, day = s[1:].split('.') # ２文字目以降を.（Period)で分割して年月日に分ける。\n",
    "    year = base_years[era] + int(year) # 元号の０年に相当する年と数値に変換した年を足して西暦の年を得る。\n",
    "    return datetime(year, int(month), int(day)) # datetime object を作成する。"
   ],
   "metadata": {
    "collapsed": false,
    "pycharm": {
     "name": "#%%\n"
    }
   }
  },
  {
   "cell_type": "code",
   "execution_count": 11,
   "outputs": [
    {
     "data": {
      "text/plain": "datetime.datetime(1974, 9, 24, 0, 0)"
     },
     "execution_count": 11,
     "metadata": {},
     "output_type": "execute_result"
    }
   ],
   "source": [
    "parse_japanese_date('S49.9.24')"
   ],
   "metadata": {
    "collapsed": false,
    "pycharm": {
     "name": "#%%\n"
    }
   }
  },
  {
   "cell_type": "code",
   "execution_count": 12,
   "outputs": [
    {
     "data": {
      "text/plain": "datetime.datetime(2019, 4, 30, 0, 0)"
     },
     "execution_count": 12,
     "metadata": {},
     "output_type": "execute_result"
    }
   ],
   "source": [
    "parse_japanese_date('H31.4.30')"
   ],
   "metadata": {
    "collapsed": false,
    "pycharm": {
     "name": "#%%\n"
    }
   }
  },
  {
   "cell_type": "code",
   "execution_count": 13,
   "outputs": [
    {
     "data": {
      "text/plain": "datetime.datetime(2019, 5, 1, 0, 0)"
     },
     "execution_count": 13,
     "metadata": {},
     "output_type": "execute_result"
    }
   ],
   "source": [
    "parse_japanese_date('R1.5.1')"
   ],
   "metadata": {
    "collapsed": false,
    "pycharm": {
     "name": "#%%\n"
    }
   }
  },
  {
   "cell_type": "code",
   "execution_count": 14,
   "outputs": [
    {
     "data": {
      "text/plain": "                1年     2年     3年     4年     5年     6年     7年     8年     9年  \\\n基準日                                                                          \n1974-09-24  10.327  9.362  8.830  8.515  8.348  8.290  8.240  8.121  8.127   \n1974-09-25  10.333  9.364  8.831  8.516  8.348  8.290  8.240  8.121  8.127   \n1974-09-26  10.340  9.366  8.832  8.516  8.348  8.290  8.240  8.122  8.128   \n1974-09-27  10.347  9.367  8.833  8.517  8.349  8.290  8.240  8.122  8.128   \n1974-09-28  10.354  9.369  8.834  8.518  8.349  8.291  8.240  8.122  8.129   \n...            ...    ...    ...    ...    ...    ...    ...    ...    ...   \n2021-12-24  -0.098 -0.099 -0.097 -0.100 -0.088 -0.085 -0.074 -0.048  0.006   \n2021-12-27  -0.099 -0.095 -0.098 -0.093 -0.084 -0.085 -0.080 -0.054  0.002   \n2021-12-28  -0.099 -0.095 -0.098 -0.093 -0.084 -0.083 -0.079 -0.050  0.002   \n2021-12-29  -0.098 -0.100 -0.098 -0.093 -0.084 -0.085 -0.080 -0.049  0.003   \n2021-12-30  -0.089 -0.095 -0.095 -0.088 -0.075 -0.068 -0.055 -0.028  0.021   \n\n              10年    15年    20年    25年    30年    40年  \n基準日                                                   \n1974-09-24    NaN    NaN    NaN    NaN    NaN    NaN  \n1974-09-25    NaN    NaN    NaN    NaN    NaN    NaN  \n1974-09-26    NaN    NaN    NaN    NaN    NaN    NaN  \n1974-09-27    NaN    NaN    NaN    NaN    NaN    NaN  \n1974-09-28    NaN    NaN    NaN    NaN    NaN    NaN  \n...           ...    ...    ...    ...    ...    ...  \n2021-12-24  0.079  0.292  0.477  0.577  0.679  0.737  \n2021-12-27  0.078  0.287  0.472  0.573  0.675  0.740  \n2021-12-28  0.078  0.287  0.477  0.580  0.684  0.749  \n2021-12-29  0.073  0.288  0.472  0.578  0.684  0.750  \n2021-12-30  0.089  0.303  0.480  0.587  0.693  0.759  \n\n[12151 rows x 15 columns]",
      "text/html": "<div>\n<style scoped>\n    .dataframe tbody tr th:only-of-type {\n        vertical-align: middle;\n    }\n\n    .dataframe tbody tr th {\n        vertical-align: top;\n    }\n\n    .dataframe thead th {\n        text-align: right;\n    }\n</style>\n<table border=\"1\" class=\"dataframe\">\n  <thead>\n    <tr style=\"text-align: right;\">\n      <th></th>\n      <th>1年</th>\n      <th>2年</th>\n      <th>3年</th>\n      <th>4年</th>\n      <th>5年</th>\n      <th>6年</th>\n      <th>7年</th>\n      <th>8年</th>\n      <th>9年</th>\n      <th>10年</th>\n      <th>15年</th>\n      <th>20年</th>\n      <th>25年</th>\n      <th>30年</th>\n      <th>40年</th>\n    </tr>\n    <tr>\n      <th>基準日</th>\n      <th></th>\n      <th></th>\n      <th></th>\n      <th></th>\n      <th></th>\n      <th></th>\n      <th></th>\n      <th></th>\n      <th></th>\n      <th></th>\n      <th></th>\n      <th></th>\n      <th></th>\n      <th></th>\n      <th></th>\n    </tr>\n  </thead>\n  <tbody>\n    <tr>\n      <th>1974-09-24</th>\n      <td>10.327</td>\n      <td>9.362</td>\n      <td>8.830</td>\n      <td>8.515</td>\n      <td>8.348</td>\n      <td>8.290</td>\n      <td>8.240</td>\n      <td>8.121</td>\n      <td>8.127</td>\n      <td>NaN</td>\n      <td>NaN</td>\n      <td>NaN</td>\n      <td>NaN</td>\n      <td>NaN</td>\n      <td>NaN</td>\n    </tr>\n    <tr>\n      <th>1974-09-25</th>\n      <td>10.333</td>\n      <td>9.364</td>\n      <td>8.831</td>\n      <td>8.516</td>\n      <td>8.348</td>\n      <td>8.290</td>\n      <td>8.240</td>\n      <td>8.121</td>\n      <td>8.127</td>\n      <td>NaN</td>\n      <td>NaN</td>\n      <td>NaN</td>\n      <td>NaN</td>\n      <td>NaN</td>\n      <td>NaN</td>\n    </tr>\n    <tr>\n      <th>1974-09-26</th>\n      <td>10.340</td>\n      <td>9.366</td>\n      <td>8.832</td>\n      <td>8.516</td>\n      <td>8.348</td>\n      <td>8.290</td>\n      <td>8.240</td>\n      <td>8.122</td>\n      <td>8.128</td>\n      <td>NaN</td>\n      <td>NaN</td>\n      <td>NaN</td>\n      <td>NaN</td>\n      <td>NaN</td>\n      <td>NaN</td>\n    </tr>\n    <tr>\n      <th>1974-09-27</th>\n      <td>10.347</td>\n      <td>9.367</td>\n      <td>8.833</td>\n      <td>8.517</td>\n      <td>8.349</td>\n      <td>8.290</td>\n      <td>8.240</td>\n      <td>8.122</td>\n      <td>8.128</td>\n      <td>NaN</td>\n      <td>NaN</td>\n      <td>NaN</td>\n      <td>NaN</td>\n      <td>NaN</td>\n      <td>NaN</td>\n    </tr>\n    <tr>\n      <th>1974-09-28</th>\n      <td>10.354</td>\n      <td>9.369</td>\n      <td>8.834</td>\n      <td>8.518</td>\n      <td>8.349</td>\n      <td>8.291</td>\n      <td>8.240</td>\n      <td>8.122</td>\n      <td>8.129</td>\n      <td>NaN</td>\n      <td>NaN</td>\n      <td>NaN</td>\n      <td>NaN</td>\n      <td>NaN</td>\n      <td>NaN</td>\n    </tr>\n    <tr>\n      <th>...</th>\n      <td>...</td>\n      <td>...</td>\n      <td>...</td>\n      <td>...</td>\n      <td>...</td>\n      <td>...</td>\n      <td>...</td>\n      <td>...</td>\n      <td>...</td>\n      <td>...</td>\n      <td>...</td>\n      <td>...</td>\n      <td>...</td>\n      <td>...</td>\n      <td>...</td>\n    </tr>\n    <tr>\n      <th>2021-12-24</th>\n      <td>-0.098</td>\n      <td>-0.099</td>\n      <td>-0.097</td>\n      <td>-0.100</td>\n      <td>-0.088</td>\n      <td>-0.085</td>\n      <td>-0.074</td>\n      <td>-0.048</td>\n      <td>0.006</td>\n      <td>0.079</td>\n      <td>0.292</td>\n      <td>0.477</td>\n      <td>0.577</td>\n      <td>0.679</td>\n      <td>0.737</td>\n    </tr>\n    <tr>\n      <th>2021-12-27</th>\n      <td>-0.099</td>\n      <td>-0.095</td>\n      <td>-0.098</td>\n      <td>-0.093</td>\n      <td>-0.084</td>\n      <td>-0.085</td>\n      <td>-0.080</td>\n      <td>-0.054</td>\n      <td>0.002</td>\n      <td>0.078</td>\n      <td>0.287</td>\n      <td>0.472</td>\n      <td>0.573</td>\n      <td>0.675</td>\n      <td>0.740</td>\n    </tr>\n    <tr>\n      <th>2021-12-28</th>\n      <td>-0.099</td>\n      <td>-0.095</td>\n      <td>-0.098</td>\n      <td>-0.093</td>\n      <td>-0.084</td>\n      <td>-0.083</td>\n      <td>-0.079</td>\n      <td>-0.050</td>\n      <td>0.002</td>\n      <td>0.078</td>\n      <td>0.287</td>\n      <td>0.477</td>\n      <td>0.580</td>\n      <td>0.684</td>\n      <td>0.749</td>\n    </tr>\n    <tr>\n      <th>2021-12-29</th>\n      <td>-0.098</td>\n      <td>-0.100</td>\n      <td>-0.098</td>\n      <td>-0.093</td>\n      <td>-0.084</td>\n      <td>-0.085</td>\n      <td>-0.080</td>\n      <td>-0.049</td>\n      <td>0.003</td>\n      <td>0.073</td>\n      <td>0.288</td>\n      <td>0.472</td>\n      <td>0.578</td>\n      <td>0.684</td>\n      <td>0.750</td>\n    </tr>\n    <tr>\n      <th>2021-12-30</th>\n      <td>-0.089</td>\n      <td>-0.095</td>\n      <td>-0.095</td>\n      <td>-0.088</td>\n      <td>-0.075</td>\n      <td>-0.068</td>\n      <td>-0.055</td>\n      <td>-0.028</td>\n      <td>0.021</td>\n      <td>0.089</td>\n      <td>0.303</td>\n      <td>0.480</td>\n      <td>0.587</td>\n      <td>0.693</td>\n      <td>0.759</td>\n    </tr>\n  </tbody>\n</table>\n<p>12151 rows × 15 columns</p>\n</div>"
     },
     "execution_count": 14,
     "metadata": {},
     "output_type": "execute_result"
    }
   ],
   "source": [
    "df_jgbcm = pd.read_csv('jgbcm_all.csv', encoding='cp932', header=1, index_col=0, parse_dates=True, date_parser=parse_japanese_date, na_values=['-'])\n",
    "\n",
    "df_jgbcm"
   ],
   "metadata": {
    "collapsed": false,
    "pycharm": {
     "name": "#%%\n"
    }
   }
  },
  {
   "cell_type": "code",
   "execution_count": null,
   "outputs": [],
   "source": [],
   "metadata": {
    "collapsed": false,
    "pycharm": {
     "name": "#%%\n"
    }
   }
  }
 ],
 "metadata": {
  "kernelspec": {
   "display_name": "Python 3",
   "language": "python",
   "name": "python3"
  },
  "language_info": {
   "codemirror_mode": {
    "name": "ipython",
    "version": 2
   },
   "file_extension": ".py",
   "mimetype": "text/x-python",
   "name": "python",
   "nbconvert_exporter": "python",
   "pygments_lexer": "ipython2",
   "version": "2.7.6"
  }
 },
 "nbformat": 4,
 "nbformat_minor": 0
}