{
 "cells": [
  {
   "cell_type": "code",
   "execution_count": 1,
   "outputs": [],
   "source": [
    "import pandas as pd"
   ],
   "metadata": {
    "collapsed": false,
    "pycharm": {
     "name": "#%%\n"
    }
   }
  },
  {
   "cell_type": "code",
   "execution_count": 2,
   "outputs": [
    {
     "data": {
      "text/plain": "      データコード               FM08'FXERM07 FM09'FX180110002\n0       系列名称  東京市場　ドル・円　スポット　17時時点/月中平均      実質実効為替レート指数\n1    1970/01                        NaN            58.31\n2    1970/02                        NaN            57.98\n3    1970/03                        NaN            58.19\n4    1970/04                        NaN            58.25\n..       ...                        ...              ...\n620  2021/08                     109.82            71.08\n621  2021/09                      110.2            70.86\n622  2021/10                     113.09             68.6\n623  2021/11                     114.03            67.79\n624  2021/12                     113.88              NaN\n\n[625 rows x 3 columns]",
      "text/html": "<div>\n<style scoped>\n    .dataframe tbody tr th:only-of-type {\n        vertical-align: middle;\n    }\n\n    .dataframe tbody tr th {\n        vertical-align: top;\n    }\n\n    .dataframe thead th {\n        text-align: right;\n    }\n</style>\n<table border=\"1\" class=\"dataframe\">\n  <thead>\n    <tr style=\"text-align: right;\">\n      <th></th>\n      <th>データコード</th>\n      <th>FM08'FXERM07</th>\n      <th>FM09'FX180110002</th>\n    </tr>\n  </thead>\n  <tbody>\n    <tr>\n      <th>0</th>\n      <td>系列名称</td>\n      <td>東京市場　ドル・円　スポット　17時時点/月中平均</td>\n      <td>実質実効為替レート指数</td>\n    </tr>\n    <tr>\n      <th>1</th>\n      <td>1970/01</td>\n      <td>NaN</td>\n      <td>58.31</td>\n    </tr>\n    <tr>\n      <th>2</th>\n      <td>1970/02</td>\n      <td>NaN</td>\n      <td>57.98</td>\n    </tr>\n    <tr>\n      <th>3</th>\n      <td>1970/03</td>\n      <td>NaN</td>\n      <td>58.19</td>\n    </tr>\n    <tr>\n      <th>4</th>\n      <td>1970/04</td>\n      <td>NaN</td>\n      <td>58.25</td>\n    </tr>\n    <tr>\n      <th>...</th>\n      <td>...</td>\n      <td>...</td>\n      <td>...</td>\n    </tr>\n    <tr>\n      <th>620</th>\n      <td>2021/08</td>\n      <td>109.82</td>\n      <td>71.08</td>\n    </tr>\n    <tr>\n      <th>621</th>\n      <td>2021/09</td>\n      <td>110.2</td>\n      <td>70.86</td>\n    </tr>\n    <tr>\n      <th>622</th>\n      <td>2021/10</td>\n      <td>113.09</td>\n      <td>68.6</td>\n    </tr>\n    <tr>\n      <th>623</th>\n      <td>2021/11</td>\n      <td>114.03</td>\n      <td>67.79</td>\n    </tr>\n    <tr>\n      <th>624</th>\n      <td>2021/12</td>\n      <td>113.88</td>\n      <td>NaN</td>\n    </tr>\n  </tbody>\n</table>\n<p>625 rows × 3 columns</p>\n</div>"
     },
     "execution_count": 2,
     "metadata": {},
     "output_type": "execute_result"
    }
   ],
   "source": [
    "pd.read_csv('exchange.csv', encoding='cp932')"
   ],
   "metadata": {
    "collapsed": false,
    "pycharm": {
     "name": "#%%\n"
    }
   }
  },
  {
   "cell_type": "markdown",
   "source": [
    "#### 上記、DataFrame の問題点\n",
    "- CSV File では Header が２行あるが、２行目が Data として扱われている\n",
    "- 列名が長い日本語で扱いづらい。\n",
    "- 年月の列があるのに Index として連番が使われている"
   ],
   "metadata": {
    "collapsed": false,
    "pycharm": {
     "name": "#%% md\n"
    }
   }
  },
  {
   "cell_type": "code",
   "execution_count": 3,
   "outputs": [
    {
     "data": {
      "text/plain": "               USD   rate\ndata                     \n1970-01-01     NaN  58.31\n1970-02-01     NaN  57.98\n1970-03-01     NaN  58.19\n1970-04-01     NaN  58.25\n1970-05-01     NaN  57.85\n...            ...    ...\n2021-08-01  109.82  71.08\n2021-09-01  110.20  70.86\n2021-10-01  113.09  68.60\n2021-11-01  114.03  67.79\n2021-12-01  113.88    NaN\n\n[624 rows x 2 columns]",
      "text/html": "<div>\n<style scoped>\n    .dataframe tbody tr th:only-of-type {\n        vertical-align: middle;\n    }\n\n    .dataframe tbody tr th {\n        vertical-align: top;\n    }\n\n    .dataframe thead th {\n        text-align: right;\n    }\n</style>\n<table border=\"1\" class=\"dataframe\">\n  <thead>\n    <tr style=\"text-align: right;\">\n      <th></th>\n      <th>USD</th>\n      <th>rate</th>\n    </tr>\n    <tr>\n      <th>data</th>\n      <th></th>\n      <th></th>\n    </tr>\n  </thead>\n  <tbody>\n    <tr>\n      <th>1970-01-01</th>\n      <td>NaN</td>\n      <td>58.31</td>\n    </tr>\n    <tr>\n      <th>1970-02-01</th>\n      <td>NaN</td>\n      <td>57.98</td>\n    </tr>\n    <tr>\n      <th>1970-03-01</th>\n      <td>NaN</td>\n      <td>58.19</td>\n    </tr>\n    <tr>\n      <th>1970-04-01</th>\n      <td>NaN</td>\n      <td>58.25</td>\n    </tr>\n    <tr>\n      <th>1970-05-01</th>\n      <td>NaN</td>\n      <td>57.85</td>\n    </tr>\n    <tr>\n      <th>...</th>\n      <td>...</td>\n      <td>...</td>\n    </tr>\n    <tr>\n      <th>2021-08-01</th>\n      <td>109.82</td>\n      <td>71.08</td>\n    </tr>\n    <tr>\n      <th>2021-09-01</th>\n      <td>110.20</td>\n      <td>70.86</td>\n    </tr>\n    <tr>\n      <th>2021-10-01</th>\n      <td>113.09</td>\n      <td>68.60</td>\n    </tr>\n    <tr>\n      <th>2021-11-01</th>\n      <td>114.03</td>\n      <td>67.79</td>\n    </tr>\n    <tr>\n      <th>2021-12-01</th>\n      <td>113.88</td>\n      <td>NaN</td>\n    </tr>\n  </tbody>\n</table>\n<p>624 rows × 2 columns</p>\n</div>"
     },
     "execution_count": 3,
     "metadata": {},
     "output_type": "execute_result"
    }
   ],
   "source": [
    "df_exchange = pd.read_csv('exchange.csv', encoding='cp932', header=1, names=['data', 'USD', 'rate'], index_col=0, parse_dates=True)\n",
    "df_exchange"
   ],
   "metadata": {
    "collapsed": false,
    "pycharm": {
     "name": "#%%\n"
    }
   }
  },
  {
   "cell_type": "markdown",
   "source": [
    "#### read_csv()関数の特筆点\n",
    "型推論によって各列の型の推論と変換が自動的に行なわれる"
   ],
   "metadata": {
    "collapsed": false,
    "pycharm": {
     "name": "#%% md\n"
    }
   }
  },
  {
   "cell_type": "code",
   "execution_count": 4,
   "outputs": [
    {
     "data": {
      "text/plain": "58.31"
     },
     "execution_count": 4,
     "metadata": {},
     "output_type": "execute_result"
    }
   ],
   "source": [
    "df_exchange['rate'][0]"
   ],
   "metadata": {
    "collapsed": false,
    "pycharm": {
     "name": "#%%\n"
    }
   }
  },
  {
   "cell_type": "code",
   "execution_count": 5,
   "outputs": [
    {
     "data": {
      "text/plain": "numpy.float64"
     },
     "execution_count": 5,
     "metadata": {},
     "output_type": "execute_result"
    }
   ],
   "source": [
    "type(df_exchange['rate'][0])"
   ],
   "metadata": {
    "collapsed": false,
    "pycharm": {
     "name": "#%%\n"
    }
   }
  }
 ],
 "metadata": {
  "kernelspec": {
   "display_name": "Python 3",
   "language": "python",
   "name": "python3"
  },
  "language_info": {
   "codemirror_mode": {
    "name": "ipython",
    "version": 2
   },
   "file_extension": ".py",
   "mimetype": "text/x-python",
   "name": "python",
   "nbconvert_exporter": "python",
   "pygments_lexer": "ipython2",
   "version": "2.7.6"
  }
 },
 "nbformat": 4,
 "nbformat_minor": 0
}